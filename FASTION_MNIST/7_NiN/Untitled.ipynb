{
 "cells": [
  {
   "cell_type": "markdown",
   "metadata": {},
   "source": [
    "# NiN\n",
    "NIN结构的mlp conv结构是将多层感知机（MLP）和卷积(CONV)结合在一起，即在传统的卷积层之间加上了MLP层，一个卷积核对原图的同一片相同大小区域卷积得到一个数，96个卷积核同样的操作得到96个数，即96个通道上同一个位置的一个元素，然后将这96个元素做一下全连接，又得到96个元素。相当于在对每一个patch的不同卷积核结果做了一个MLP。"
   ]
  },
  {
   "cell_type": "markdown",
   "metadata": {},
   "source": [
    "## 导入库"
   ]
  },
  {
   "cell_type": "code",
   "execution_count": 1,
   "metadata": {},
   "outputs": [],
   "source": [
    "import tensorflow as tf\n",
    "from tensorflow import keras\n",
    "import pandas as pd\n",
    "import matplotlib.pyplot as plt\n",
    "%matplotlib inline"
   ]
  },
  {
   "cell_type": "markdown",
   "metadata": {},
   "source": [
    "## 超参"
   ]
  },
  {
   "cell_type": "code",
   "execution_count": 2,
   "metadata": {},
   "outputs": [],
   "source": [
    "EPOCHS = 50\n",
    "BATCH_SIZE = 256\n",
    "LR = 1e-5\n",
    "VERBOSE = 1\n",
    "IMAGE_SIZE = 224"
   ]
  },
  {
   "cell_type": "markdown",
   "metadata": {},
   "source": [
    "## 导入数据集"
   ]
  },
  {
   "cell_type": "code",
   "execution_count": 3,
   "metadata": {},
   "outputs": [],
   "source": [
    "(train_images, train_labels), (test_images, test_labels) = keras.datasets.fashion_mnist.load_data()"
   ]
  },
  {
   "cell_type": "code",
   "execution_count": 4,
   "metadata": {},
   "outputs": [],
   "source": [
    "train_images = tf.reshape(train_images, (train_images.shape[0], train_images.shape[1], train_images.shape[2], -1))\n",
    "test_images = tf.reshape(test_images, (test_images.shape[0], test_images.shape[1], test_images.shape[2], -1))"
   ]
  },
  {
   "cell_type": "code",
   "execution_count": 5,
   "metadata": {},
   "outputs": [],
   "source": [
    "train_images = tf.image.resize_with_pad(train_images, IMAGE_SIZE, IMAGE_SIZE)\n",
    "test_images = tf.image.resize_with_pad(test_images, IMAGE_SIZE, IMAGE_SIZE)\n",
    "\n",
    "train_images = tf.cast(train_images, dtype=tf.float32) / 255.\n",
    "test_images = tf.cast(test_images, dtype=tf.float32) / 255."
   ]
  },
  {
   "cell_type": "code",
   "execution_count": 6,
   "metadata": {},
   "outputs": [],
   "source": [
    "train_labels = tf.convert_to_tensor(train_labels, dtype=tf.int32)\n",
    "test_labels = tf.convert_to_tensor(test_labels, dtype=tf.int32)"
   ]
  },
  {
   "cell_type": "markdown",
   "metadata": {},
   "source": [
    "## 网络中的网络"
   ]
  },
  {
   "cell_type": "code",
   "execution_count": 7,
   "metadata": {},
   "outputs": [],
   "source": [
    "def nin_block(num_channels, kernel_size, strides, padding):\n",
    "    blk = keras.models.Sequential()\n",
    "    blk.add(keras.layers.Conv2D(num_channels, kernel_size, strides=strides, padding=padding, activation='relu')) \n",
    "    blk.add(keras.layers.Conv2D(num_channels, kernel_size=1, activation='relu')) \n",
    "    blk.add(keras.layers.Conv2D(num_channels, kernel_size=1, activation='relu'))    \n",
    "    return blk"
   ]
  },
  {
   "cell_type": "code",
   "execution_count": 8,
   "metadata": {},
   "outputs": [
    {
     "name": "stdout",
     "output_type": "stream",
     "text": [
      "Model: \"sequential\"\n",
      "_________________________________________________________________\n",
      "Layer (type)                 Output Shape              Param #   \n",
      "=================================================================\n",
      "sequential_1 (Sequential)    (None, 54, 54, 96)        30336     \n",
      "_________________________________________________________________\n",
      "max_pooling2d (MaxPooling2D) (None, 26, 26, 96)        0         \n",
      "_________________________________________________________________\n",
      "sequential_2 (Sequential)    (None, 26, 26, 256)       746240    \n",
      "_________________________________________________________________\n",
      "max_pooling2d_1 (MaxPooling2 (None, 12, 12, 256)       0         \n",
      "_________________________________________________________________\n",
      "sequential_3 (Sequential)    (None, 12, 12, 384)       1180800   \n",
      "_________________________________________________________________\n",
      "max_pooling2d_2 (MaxPooling2 (None, 5, 5, 384)         0         \n",
      "_________________________________________________________________\n",
      "dropout (Dropout)            (None, 5, 5, 384)         0         \n",
      "_________________________________________________________________\n",
      "sequential_4 (Sequential)    (None, 5, 5, 10)          34790     \n",
      "_________________________________________________________________\n",
      "global_average_pooling2d (Gl (None, 10)                0         \n",
      "_________________________________________________________________\n",
      "flatten (Flatten)            (None, 10)                0         \n",
      "=================================================================\n",
      "Total params: 1,992,166\n",
      "Trainable params: 1,992,166\n",
      "Non-trainable params: 0\n",
      "_________________________________________________________________\n"
     ]
    }
   ],
   "source": [
    "model = keras.models.Sequential()\n",
    "\n",
    "model.add(keras.Input((224, 224, 1)))\n",
    "\n",
    "model.add(nin_block(96, kernel_size=11, strides=4, padding='valid'))\n",
    "model.add(keras.layers.MaxPool2D(pool_size=3, strides=2))\n",
    "\n",
    "model.add(nin_block(256, kernel_size=5, strides=1, padding='same'))\n",
    "model.add(keras.layers.MaxPool2D(pool_size=3, strides=2))\n",
    "\n",
    "model.add(nin_block(384, kernel_size=3, strides=1, padding='same'))\n",
    "model.add(keras.layers.MaxPool2D(pool_size=3, strides=2))\n",
    "model.add(keras.layers.Dropout(0.5))\n",
    "\n",
    "model.add(nin_block(10, kernel_size=3, strides=1, padding='same'))\n",
    "\n",
    "model.add(keras.layers.GlobalAveragePooling2D())\n",
    "model.add(keras.layers.Flatten())\n",
    "\n",
    "model.summary()"
   ]
  },
  {
   "cell_type": "markdown",
   "metadata": {},
   "source": [
    "## 设置优化器和损失函数"
   ]
  },
  {
   "cell_type": "code",
   "execution_count": 9,
   "metadata": {},
   "outputs": [],
   "source": [
    "optimizer = keras.optimizers.Adam(lr=LR)\n",
    "model.compile(optimizer=optimizer, loss='sparse_categorical_crossentropy', metrics=['accuracy'])"
   ]
  },
  {
   "cell_type": "markdown",
   "metadata": {},
   "source": [
    "## 开始训练"
   ]
  },
  {
   "cell_type": "code",
   "execution_count": 10,
   "metadata": {},
   "outputs": [
    {
     "name": "stdout",
     "output_type": "stream",
     "text": [
      "Train on 10000 samples\n",
      "Epoch 1/50\n",
      "10000/10000 [==============================] - 20s 2ms/sample - loss: 4.0520 - accuracy: 0.0922\n",
      "Epoch 2/50\n",
      "10000/10000 [==============================] - 17s 2ms/sample - loss: 3.0562 - accuracy: 0.1186\n",
      "Epoch 3/50\n",
      "10000/10000 [==============================] - 17s 2ms/sample - loss: 2.9194 - accuracy: 0.1685\n",
      "Epoch 4/50\n",
      "10000/10000 [==============================] - 17s 2ms/sample - loss: 2.8015 - accuracy: 0.2212\n",
      "Epoch 5/50\n",
      "10000/10000 [==============================] - 17s 2ms/sample - loss: 2.6028 - accuracy: 0.2535\n",
      "Epoch 6/50\n",
      "10000/10000 [==============================] - 17s 2ms/sample - loss: 2.3494 - accuracy: 0.3035\n",
      "Epoch 7/50\n",
      "10000/10000 [==============================] - 17s 2ms/sample - loss: 2.1598 - accuracy: 0.3305\n",
      "Epoch 8/50\n",
      "10000/10000 [==============================] - 17s 2ms/sample - loss: 2.0513 - accuracy: 0.3393\n",
      "Epoch 9/50\n",
      "10000/10000 [==============================] - 17s 2ms/sample - loss: 1.9131 - accuracy: 0.3657\n",
      "Epoch 10/50\n",
      "10000/10000 [==============================] - 17s 2ms/sample - loss: 1.7584 - accuracy: 0.3869\n",
      "Epoch 11/50\n",
      "10000/10000 [==============================] - 17s 2ms/sample - loss: 1.8114 - accuracy: 0.3637\n",
      "Epoch 12/50\n",
      "10000/10000 [==============================] - 17s 2ms/sample - loss: 1.6880 - accuracy: 0.4058\n",
      "Epoch 13/50\n",
      "10000/10000 [==============================] - 17s 2ms/sample - loss: 1.6631 - accuracy: 0.4048\n",
      "Epoch 14/50\n",
      "10000/10000 [==============================] - 17s 2ms/sample - loss: 1.6077 - accuracy: 0.4424\n",
      "Epoch 15/50\n",
      "10000/10000 [==============================] - 17s 2ms/sample - loss: 1.5891 - accuracy: 0.4450\n",
      "Epoch 16/50\n",
      "10000/10000 [==============================] - 17s 2ms/sample - loss: 1.5424 - accuracy: 0.4637\n",
      "Epoch 17/50\n",
      "10000/10000 [==============================] - 17s 2ms/sample - loss: 1.5174 - accuracy: 0.4570\n",
      "Epoch 18/50\n",
      "10000/10000 [==============================] - 17s 2ms/sample - loss: 1.5135 - accuracy: 0.4826\n",
      "Epoch 19/50\n",
      "10000/10000 [==============================] - 17s 2ms/sample - loss: 1.5148 - accuracy: 0.4764\n",
      "Epoch 20/50\n",
      "10000/10000 [==============================] - 17s 2ms/sample - loss: 1.4333 - accuracy: 0.5098\n",
      "Epoch 21/50\n",
      "10000/10000 [==============================] - 17s 2ms/sample - loss: 1.4770 - accuracy: 0.4930\n",
      "Epoch 22/50\n",
      "10000/10000 [==============================] - 17s 2ms/sample - loss: 1.4399 - accuracy: 0.5195\n",
      "Epoch 23/50\n",
      "10000/10000 [==============================] - 17s 2ms/sample - loss: 1.4077 - accuracy: 0.5217\n",
      "Epoch 24/50\n",
      "10000/10000 [==============================] - 17s 2ms/sample - loss: 1.3890 - accuracy: 0.5401\n",
      "Epoch 25/50\n",
      "10000/10000 [==============================] - 17s 2ms/sample - loss: 1.3884 - accuracy: 0.5382\n",
      "Epoch 26/50\n",
      "10000/10000 [==============================] - 17s 2ms/sample - loss: 1.3561 - accuracy: 0.5478\n",
      "Epoch 27/50\n",
      "10000/10000 [==============================] - 17s 2ms/sample - loss: 1.3477 - accuracy: 0.5579\n",
      "Epoch 28/50\n",
      "10000/10000 [==============================] - 17s 2ms/sample - loss: 1.3562 - accuracy: 0.5560\n",
      "Epoch 29/50\n",
      "10000/10000 [==============================] - 17s 2ms/sample - loss: 1.3931 - accuracy: 0.5356\n",
      "Epoch 30/50\n",
      "10000/10000 [==============================] - 17s 2ms/sample - loss: 1.2970 - accuracy: 0.5719\n",
      "Epoch 31/50\n",
      "10000/10000 [==============================] - 17s 2ms/sample - loss: 1.2725 - accuracy: 0.5735\n",
      "Epoch 32/50\n",
      "10000/10000 [==============================] - 17s 2ms/sample - loss: 1.3040 - accuracy: 0.5682\n",
      "Epoch 33/50\n",
      "10000/10000 [==============================] - 17s 2ms/sample - loss: 1.2859 - accuracy: 0.5832\n",
      "Epoch 34/50\n",
      "10000/10000 [==============================] - 17s 2ms/sample - loss: 1.2591 - accuracy: 0.5835\n",
      "Epoch 35/50\n",
      "10000/10000 [==============================] - 17s 2ms/sample - loss: 1.2311 - accuracy: 0.5917\n",
      "Epoch 36/50\n",
      "10000/10000 [==============================] - 17s 2ms/sample - loss: 1.2541 - accuracy: 0.5837\n",
      "Epoch 37/50\n",
      "10000/10000 [==============================] - 17s 2ms/sample - loss: 1.2199 - accuracy: 0.6083\n",
      "Epoch 38/50\n",
      "10000/10000 [==============================] - 17s 2ms/sample - loss: 1.1927 - accuracy: 0.6118\n",
      "Epoch 39/50\n",
      "10000/10000 [==============================] - 17s 2ms/sample - loss: 1.2415 - accuracy: 0.5938\n",
      "Epoch 40/50\n",
      "10000/10000 [==============================] - 17s 2ms/sample - loss: 1.1862 - accuracy: 0.6080\n",
      "Epoch 41/50\n",
      "10000/10000 [==============================] - 17s 2ms/sample - loss: 1.1638 - accuracy: 0.6168\n",
      "Epoch 42/50\n",
      "10000/10000 [==============================] - 17s 2ms/sample - loss: 1.1442 - accuracy: 0.6248\n",
      "Epoch 43/50\n",
      "10000/10000 [==============================] - 17s 2ms/sample - loss: 1.3971 - accuracy: 0.5362\n",
      "Epoch 44/50\n",
      "10000/10000 [==============================] - 17s 2ms/sample - loss: 1.1698 - accuracy: 0.6183\n",
      "Epoch 45/50\n",
      "10000/10000 [==============================] - 17s 2ms/sample - loss: 1.1615 - accuracy: 0.6182\n",
      "Epoch 46/50\n",
      "10000/10000 [==============================] - 17s 2ms/sample - loss: 1.1595 - accuracy: 0.6226\n",
      "Epoch 47/50\n",
      "10000/10000 [==============================] - 17s 2ms/sample - loss: 1.1394 - accuracy: 0.6209\n",
      "Epoch 48/50\n",
      "10000/10000 [==============================] - 17s 2ms/sample - loss: 1.1362 - accuracy: 0.6299\n",
      "Epoch 49/50\n",
      "10000/10000 [==============================] - 17s 2ms/sample - loss: 1.1475 - accuracy: 0.6193\n",
      "Epoch 50/50\n",
      "10000/10000 [==============================] - 17s 2ms/sample - loss: 1.1038 - accuracy: 0.6313\n"
     ]
    }
   ],
   "source": [
    "history = model.fit(train_images, train_labels, batch_size=BATCH_SIZE, epochs=EPOCHS, verbose=VERBOSE)"
   ]
  },
  {
   "cell_type": "markdown",
   "metadata": {},
   "source": [
    "## 绘制梯度下降图"
   ]
  },
  {
   "cell_type": "code",
   "execution_count": 15,
   "metadata": {
    "scrolled": true
   },
   "outputs": [
    {
     "data": {
      "image/png": "[encoded data removed]",
      "text/plain": [
       "<Figure size 576x360 with 1 Axes>"
      ]
     },
     "metadata": {
      "needs_background": "light"
     },
     "output_type": "display_data"
    }
   ],
   "source": [
    "def plot_learning_curves(history):\n",
    "    pd.DataFrame(history.history).plot(figsize=(8, 5))\n",
    "    plt.grid(True)\n",
    "    plt.gca().set_ylim(0, 5)\n",
    "    plt.show()\n",
    "    \n",
    "plot_learning_curves(history)"
   ]
  },
  {
   "cell_type": "markdown",
   "metadata": {},
   "source": [
    "## 测试训练好的模型"
   ]
  },
  {
   "cell_type": "code",
   "execution_count": 16,
   "metadata": {},
   "outputs": [
    {
     "name": "stdout",
     "output_type": "stream",
     "text": [
      "3000/3000 [==============================] - 2s 636us/sample - loss: 1.0264 - accuracy: 0.6457\n"
     ]
    },
    {
     "data": {
      "text/plain": [
       "[1.0264339504241944, 0.64566666]"
      ]
     },
     "execution_count": 16,
     "metadata": {},
     "output_type": "execute_result"
    }
   ],
   "source": [
    "model.evaluate(test_images, test_labels)"
   ]
  },
  {
   "cell_type": "markdown",
   "metadata": {},
   "source": [
    "## 保存模型 "
   ]
  },
  {
   "cell_type": "code",
   "execution_count": 13,
   "metadata": {},
   "outputs": [],
   "source": [
    "model.save('./save/save_model/model.h5')"
   ]
  },
  {
   "cell_type": "code",
   "execution_count": 14,
   "metadata": {},
   "outputs": [],
   "source": [
    "model.save_weights('./save/save_weights/model_weights.h5')"
   ]
  },
  {
   "cell_type": "code",
   "execution_count": null,
   "metadata": {},
   "outputs": [],
   "source": []
  }
 ],
 "metadata": {
  "kernelspec": {
   "display_name": "Python 3",
   "language": "python",
   "name": "python3"
  },
  "language_info": {
   "codemirror_mode": {
    "name": "ipython",
    "version": 3
   },
   "file_extension": ".py",
   "mimetype": "text/x-python",
   "name": "python",
   "nbconvert_exporter": "python",
   "pygments_lexer": "ipython3",
   "version": "3.7.4"
  }
 },
 "nbformat": 4,
 "nbformat_minor": 2
}
