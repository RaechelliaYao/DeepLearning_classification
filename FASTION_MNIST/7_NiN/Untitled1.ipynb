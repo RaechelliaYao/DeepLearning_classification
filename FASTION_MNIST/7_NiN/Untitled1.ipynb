{
 "cells": [
  {
   "cell_type": "markdown",
   "metadata": {},
   "source": [
    "# NiN\n",
    "NIN结构的mlp conv结构是将多层感知机（MLP）和卷积(CONV)结合在一起，即在传统的卷积层之间加上了MLP层，一个卷积核对原图的同一片相同大小区域卷积得到一个数，96个卷积核同样的操作得到96个数，即96个通道上同一个位置的一个元素，然后将这96个元素做一下全连接，又得到96个元素。相当于在对每一个patch的不同卷积核结果做了一个MLP。"
   ]
  },
  {
   "cell_type": "markdown",
   "metadata": {},
   "source": [
    "## 导入库"
   ]
  },
  {
   "cell_type": "code",
   "execution_count": 1,
   "metadata": {},
   "outputs": [],
   "source": [
    "import tensorflow as tf\n",
    "from tensorflow import keras\n",
    "import numpy as np"
   ]
  },
  {
   "cell_type": "markdown",
   "metadata": {},
   "source": [
    "## 参数"
   ]
  },
  {
   "cell_type": "code",
   "execution_count": 2,
   "metadata": {},
   "outputs": [],
   "source": [
    "BATCH_SIZE = 10000\n",
    "EPOCH = 5"
   ]
  },
  {
   "cell_type": "markdown",
   "metadata": {},
   "source": [
    "## 加载数据并调整大小"
   ]
  },
  {
   "cell_type": "code",
   "execution_count": 3,
   "metadata": {},
   "outputs": [],
   "source": [
    "class DataLoader():\n",
    "    def __init__(self):\n",
    "        (self.train_images, self.train_labels), (self.test_images, self.test_labels) = keras.datasets.fashion_mnist.load_data()\n",
    "        self.train_images = np.expand_dims(self.train_images.astype(np.float32)/255.0, axis=-1)\n",
    "        self.test_images = np.expand_dims(self.test_images.astype(np.float32)/255.0, axis=-1)\n",
    "        self.train_labels = self.train_labels.astype(np.int32)\n",
    "        self.test_labels = self.test_labels.astype(np.int32)\n",
    "        self.num_train, self.num_test = self.train_images.shape[0], self.test_images.shape[0]\n",
    "        \n",
    "    def get_batch_train(self, batch_size):\n",
    "        index = np.random.randint(0, np.shape(self.train_images)[0], batch_size)\n",
    "        resized_images = tf.image.resize_with_pad(self.train_images[index], 224, 224,)\n",
    "        return resized_images.numpy(), self.train_labels[index]\n",
    "    \n",
    "    def get_batch_test(self, batch_size):\n",
    "        index = np.random.randint(0, np.shape(self.test_images)[0], batch_size)\n",
    "        resized_images = tf.image.resize_with_pad(self.test_images[index], 224, 224,)\n",
    "        return resized_images.numpy(), self.test_labels[index]"
   ]
  },
  {
   "cell_type": "code",
   "execution_count": 4,
   "metadata": {},
   "outputs": [],
   "source": [
    "dataLoader = DataLoader()\n",
    "x_batch, y_batch = dataLoader.get_batch_train(BATCH_SIZE)"
   ]
  },
  {
   "cell_type": "markdown",
   "metadata": {},
   "source": [
    "## 网络中的网络"
   ]
  },
  {
   "cell_type": "code",
   "execution_count": 5,
   "metadata": {},
   "outputs": [],
   "source": [
    "def nin_block(num_channels, kernel_size, strides, padding):\n",
    "    blk = keras.models.Sequential()\n",
    "    blk.add(keras.layers.Conv2D(num_channels, kernel_size, strides=strides, padding=padding, activation='relu')) \n",
    "    blk.add(keras.layers.Conv2D(num_channels, kernel_size=1, activation='relu')) \n",
    "    blk.add(keras.layers.Conv2D(num_channels, kernel_size=1, activation='relu'))    \n",
    "    return blk"
   ]
  },
  {
   "cell_type": "markdown",
   "metadata": {},
   "source": [
    "## 定义总模型"
   ]
  },
  {
   "cell_type": "code",
   "execution_count": 6,
   "metadata": {},
   "outputs": [],
   "source": [
    "model = keras.models.Sequential()\n",
    "\n",
    "model.add(nin_block(96, kernel_size=11, strides=4, padding='valid'))\n",
    "model.add(keras.layers.MaxPool2D(pool_size=3, strides=2))\n",
    "\n",
    "model.add(nin_block(256, kernel_size=5, strides=1, padding='same'))\n",
    "model.add(keras.layers.MaxPool2D(pool_size=3, strides=2))\n",
    "\n",
    "model.add(nin_block(384, kernel_size=3, strides=1, padding='same'))\n",
    "model.add(keras.layers.MaxPool2D(pool_size=3, strides=2))\n",
    "model.add(keras.layers.Dropout(0.5))\n",
    "\n",
    "model.add(nin_block(10, kernel_size=3, strides=1, padding='same'))\n",
    "\n",
    "model.add(keras.layers.GlobalAveragePooling2D())\n",
    "model.add(keras.layers.Flatten())"
   ]
  },
  {
   "cell_type": "markdown",
   "metadata": {},
   "source": [
    "## 优化器和损失函数 "
   ]
  },
  {
   "cell_type": "code",
   "execution_count": 7,
   "metadata": {},
   "outputs": [],
   "source": [
    "optimizer = keras.optimizers.Adam(lr=1e-7)\n",
    "model.compile(optimizer=optimizer, loss='sparse_categorical_crossentropy', metrics=['accuracy'])"
   ]
  },
  {
   "cell_type": "markdown",
   "metadata": {},
   "source": [
    "## 训练"
   ]
  },
  {
   "cell_type": "code",
   "execution_count": 8,
   "metadata": {},
   "outputs": [
    {
     "name": "stdout",
     "output_type": "stream",
     "text": [
      "Train on 10000 samples\n",
      "10000/10000 [==============================] - 18s 2ms/sample - loss: 2.6610 - accuracy: 0.1005s - loss: 2.6669 \n",
      "Train on 10000 samples\n",
      "10000/10000 [==============================] - 15s 2ms/sample - loss: 2.4812 - accuracy: 0.0942\n",
      "Train on 10000 samples\n",
      "10000/10000 [==============================] - 15s 2ms/sample - loss: 2.4328 - accuracy: 0.0883s - loss: 2.4397 - accura\n",
      "Train on 10000 samples\n",
      "10000/10000 [==============================] - 16s 2ms/sample - loss: 2.3753 - accuracy: 0.1095s - loss: 2\n",
      "Train on 10000 samples\n",
      "10000/10000 [==============================] - 16s 2ms/sample - loss: 2.3296 - accuracy: 0.1236s - loss: 2.3304 - accu\n",
      "Train on 10000 samples\n",
      "10000/10000 [==============================] - 16s 2ms/sample - loss: 2.2892 - accuracy: 0.1415s -\n",
      "Train on 10000 samples\n",
      "10000/10000 [==============================] - 16s 2ms/sample - loss: 2.2434 - accuracy: 0.1593\n",
      "Train on 10000 samples\n",
      "10000/10000 [==============================] - 16s 2ms/sample - loss: 2.2096 - accuracy: 0.1661s - loss: 2.2099 - accuracy\n",
      "Train on 10000 samples\n",
      "10000/10000 [==============================] - 16s 2ms/sample - loss: 2.1764 - accuracy: 0.1642\n",
      "Train on 10000 samples\n",
      "10000/10000 [==============================] - 16s 2ms/sample - loss: 2.1419 - accuracy: 0.1783\n",
      "Train on 10000 samples\n",
      "10000/10000 [==============================] - 16s 2ms/sample - loss: 2.1137 - accuracy: 0.1818\n",
      "Train on 10000 samples\n",
      "10000/10000 [==============================] - 16s 2ms/sample - loss: 2.0830 - accuracy: 0.1902\n",
      "Train on 10000 samples\n",
      "10000/10000 [==============================] - 16s 2ms/sample - loss: 2.0545 - accuracy: 0.1962\n",
      "Train on 10000 samples\n",
      "10000/10000 [==============================] - 16s 2ms/sample - loss: 2.0287 - accuracy: 0.2002\n",
      "Train on 10000 samples\n",
      "10000/10000 [==============================] - 16s 2ms/sample - loss: 2.0062 - accuracy: 0.2048s - loss: 2.0064 - accu\n",
      "Train on 10000 samples\n",
      "10000/10000 [==============================] - 16s 2ms/sample - loss: 1.9921 - accuracy: 0.2109\n",
      "Train on 10000 samples\n",
      "10000/10000 [==============================] - 16s 2ms/sample - loss: 1.9671 - accuracy: 0.2290s - loss: 1.9683 - accuracy - ETA: 2s - loss: 1.9685 \n",
      "Train on 10000 samples\n",
      "10000/10000 [==============================] - 16s 2ms/sample - loss: 1.9461 - accuracy: 0.2316\n",
      "Train on 10000 samples\n",
      "10000/10000 [==============================] - 16s 2ms/sample - loss: 1.9255 - accuracy: 0.2435\n",
      "Train on 10000 samples\n",
      "10000/10000 [==============================] - 16s 2ms/sample - loss: 1.9136 - accuracy: 0.2487\n",
      "Train on 10000 samples\n",
      "10000/10000 [==============================] - 16s 2ms/sample - loss: 1.8912 - accuracy: 0.2517\n",
      "Train on 10000 samples\n",
      "10000/10000 [==============================] - 16s 2ms/sample - loss: 1.8815 - accuracy: 0.2585\n",
      "Train on 10000 samples\n",
      "10000/10000 [==============================] - 16s 2ms/sample - loss: 1.8625 - accuracy: 0.2813s - loss: 1.8627 - accuracy: \n",
      "Train on 10000 samples\n",
      "10000/10000 [==============================] - 16s 2ms/sample - loss: 1.8521 - accuracy: 0.2829\n",
      "Train on 10000 samples\n",
      "10000/10000 [==============================] - 16s 2ms/sample - loss: 1.8383 - accuracy: 0.2937s - - ETA: 5s - loss: 1.8 - ETA: 4s\n",
      "Train on 10000 samples\n",
      "10000/10000 [==============================] - 16s 2ms/sample - loss: 1.8266 - accuracy: 0.3000\n",
      "Train on 10000 samples\n",
      "10000/10000 [==============================] - 16s 2ms/sample - loss: 1.7981 - accuracy: 0.3181\n",
      "Train on 10000 samples\n",
      "10000/10000 [==============================] - 16s 2ms/sample - loss: 1.7858 - accuracy: 0.3203\n",
      "Train on 10000 samples\n",
      "10000/10000 [==============================] - 16s 2ms/sample - loss: 1.7835 - accuracy: 0.3234\n",
      "Train on 10000 samples\n",
      "10000/10000 [==============================] - 16s 2ms/sample - loss: 1.7643 - accuracy: 0.3323\n"
     ]
    }
   ],
   "source": [
    "num_iter = dataLoader.num_train//BATCH_SIZE\n",
    "for e in range(EPOCH):\n",
    "    for n in range(num_iter):\n",
    "        x_batch, y_batch = dataLoader.get_batch_train(BATCH_SIZE)\n",
    "        model.fit(x_batch, y_batch)"
   ]
  },
  {
   "cell_type": "markdown",
   "metadata": {},
   "source": [
    "## 测试"
   ]
  },
  {
   "cell_type": "code",
   "execution_count": 9,
   "metadata": {},
   "outputs": [
    {
     "name": "stdout",
     "output_type": "stream",
     "text": [
      "2000/2000 - 2s - loss: 1.6568 - accuracy: 0.3390\n"
     ]
    },
    {
     "data": {
      "text/plain": [
       "[1.6567667217254638, 0.33900002]"
      ]
     },
     "execution_count": 9,
     "metadata": {},
     "output_type": "execute_result"
    }
   ],
   "source": [
    "x_test, y_test = dataLoader.get_batch_test(2000)\n",
    "model.evaluate(x_test, y_test, verbose=2)"
   ]
  },
  {
   "cell_type": "code",
   "execution_count": null,
   "metadata": {},
   "outputs": [],
   "source": []
  }
 ],
 "metadata": {
  "kernelspec": {
   "display_name": "Python 3",
   "language": "python",
   "name": "python3"
  },
  "language_info": {
   "codemirror_mode": {
    "name": "ipython",
    "version": 3
   },
   "file_extension": ".py",
   "mimetype": "text/x-python",
   "name": "python",
   "nbconvert_exporter": "python",
   "pygments_lexer": "ipython3",
   "version": "3.7.4"
  }
 },
 "nbformat": 4,
 "nbformat_minor": 2
}
