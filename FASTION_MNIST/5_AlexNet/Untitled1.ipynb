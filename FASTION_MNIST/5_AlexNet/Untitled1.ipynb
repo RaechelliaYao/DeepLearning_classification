{
 "cells": [
  {
   "cell_type": "markdown",
   "metadata": {},
   "source": [
    "# AlexNet\n",
    "它首次证明了学习到的特征可以超越手工设计的特征，从而一举打破计算机视觉研究的前状。"
   ]
  },
  {
   "cell_type": "markdown",
   "metadata": {},
   "source": [
    "## 导入库"
   ]
  },
  {
   "cell_type": "code",
   "execution_count": 1,
   "metadata": {},
   "outputs": [],
   "source": [
    "import tensorflow as tf\n",
    "from tensorflow import keras\n",
    "import numpy as np"
   ]
  },
  {
   "cell_type": "markdown",
   "metadata": {},
   "source": [
    "## 参数"
   ]
  },
  {
   "cell_type": "code",
   "execution_count": 2,
   "metadata": {},
   "outputs": [],
   "source": [
    "BATCH_SIZE = 10000\n",
    "IMAGE_SIZE = 224\n",
    "EPOCH = 5\n",
    "LR = 0.01"
   ]
  },
  {
   "cell_type": "markdown",
   "metadata": {},
   "source": [
    "## 导入数据并调整大小"
   ]
  },
  {
   "cell_type": "code",
   "execution_count": 3,
   "metadata": {},
   "outputs": [],
   "source": [
    "(train_images, train_labels), (test_images, test_labels) = keras.datasets.fashion_mnist.load_data()"
   ]
  },
  {
   "cell_type": "code",
   "execution_count": 4,
   "metadata": {},
   "outputs": [],
   "source": [
    "train_images = np.expand_dims(train_images.astype(np.float32)/255.0, axis=-1)\n",
    "test_images = np.expand_dims(test_images.astype(np.float32)/255.0, axis=-1)\n",
    "train_labels = train_labels.astype(np.int32)\n",
    "test_labels = test_labels.astype(np.int32)"
   ]
  },
  {
   "cell_type": "code",
   "execution_count": 5,
   "metadata": {},
   "outputs": [],
   "source": [
    "class DataLoader():\n",
    "    def __init__(self):\n",
    "        (self.train_images, self.train_labels), (self.test_images, self.test_labels) = keras.datasets.fashion_mnist.load_data()\n",
    "        self.train_images = np.expand_dims(self.train_images.astype(np.float32)/255.0, axis=-1)\n",
    "        self.test_images = np.expand_dims(self.test_images.astype(np.float32)/255.0, axis=-1)\n",
    "        self.train_labels = self.train_labels.astype(np.int32)\n",
    "        self.test_labels = self.test_labels.astype(np.int32)\n",
    "        self.num_train, self.num_test = self.train_images.shape[0], self.test_images.shape[0]\n",
    "        \n",
    "    def get_batch_train(self, batch_size):\n",
    "        index = np.random.randint(0, np.shape(self.train_images)[0], batch_size)\n",
    "        resized_images = tf.image.resize_with_pad(self.train_images[index], IMAGE_SIZE, IMAGE_SIZE,)\n",
    "        return resized_images.numpy(), self.train_labels[index]\n",
    "    \n",
    "    def get_batch_test(self, batch_size):\n",
    "        index = np.random.randint(0, np.shape(self.test_images)[0], batch_size)\n",
    "        resized_images = tf.image.resize_with_pad(self.test_images[index], IMAGE_SIZE, IMAGE_SIZE,)\n",
    "        return resized_images.numpy(), self.test_labels[index]"
   ]
  },
  {
   "cell_type": "code",
   "execution_count": 6,
   "metadata": {},
   "outputs": [],
   "source": [
    "dataLoader = DataLoader()\n",
    "x_batch, y_batch = dataLoader.get_batch_train(BATCH_SIZE)"
   ]
  },
  {
   "cell_type": "markdown",
   "metadata": {},
   "source": [
    "## 定义模型"
   ]
  },
  {
   "cell_type": "code",
   "execution_count": 7,
   "metadata": {},
   "outputs": [],
   "source": [
    "model = keras.models.Sequential([\n",
    "    keras.layers.Conv2D(filters=96, kernel_size=11, strides=4, activation='relu'),\n",
    "    keras.layers.MaxPool2D(pool_size=3, strides=2),\n",
    "    \n",
    "    keras.layers.Conv2D(filters=256, kernel_size=5, padding='same', activation='relu'),\n",
    "    keras.layers.MaxPool2D(pool_size=3, strides=2),\n",
    "    \n",
    "    keras.layers.Conv2D(filters=384, kernel_size=3, padding='same', activation='relu'),\n",
    "    keras.layers.Conv2D(filters=384, kernel_size=3, padding='same', activation='relu'),\n",
    "    keras.layers.Conv2D(filters=256, kernel_size=3, padding='same', activation='relu'),\n",
    "    keras.layers.MaxPool2D(pool_size=3, strides=2),\n",
    "    \n",
    "    keras.layers.Flatten(),\n",
    "    keras.layers.Dense(4096, activation='relu'),\n",
    "    keras.layers.Dropout(0.5),\n",
    "    keras.layers.Dense(4096, activation='relu'),\n",
    "    keras.layers.Dropout(0.5),\n",
    "    keras.layers.Dense(10, activation='sigmoid')\n",
    "])"
   ]
  },
  {
   "cell_type": "markdown",
   "metadata": {},
   "source": [
    "## 定义损失和优化"
   ]
  },
  {
   "cell_type": "code",
   "execution_count": 8,
   "metadata": {},
   "outputs": [],
   "source": [
    "optimizer = keras.optimizers.SGD(learning_rate=LR,)\n",
    "model.compile(optimizer=optimizer, loss='sparse_categorical_crossentropy', metrics=['accuracy'])"
   ]
  },
  {
   "cell_type": "markdown",
   "metadata": {},
   "source": [
    "## 开始训练"
   ]
  },
  {
   "cell_type": "code",
   "execution_count": 9,
   "metadata": {
    "scrolled": false
   },
   "outputs": [
    {
     "name": "stdout",
     "output_type": "stream",
     "text": [
      "Train on 10000 samples\n",
      "10000/10000 [==============================] - 16s 2ms/sample - loss: 2.0769 - accuracy: 0.2196\n",
      "Train on 10000 samples\n",
      "10000/10000 [==============================] - 13s 1ms/sample - loss: 1.1046 - accuracy: 0.5655\n",
      "Train on 10000 samples\n",
      "10000/10000 [==============================] - 13s 1ms/sample - loss: 0.8101 - accuracy: 0.6927\n",
      "Train on 10000 samples\n",
      "10000/10000 [==============================] - 13s 1ms/sample - loss: 0.7087 - accuracy: 0.7300\n",
      "Train on 10000 samples\n",
      "10000/10000 [==============================] - 13s 1ms/sample - loss: 0.6292 - accuracy: 0.7677\n",
      "Train on 10000 samples\n",
      "10000/10000 [==============================] - 13s 1ms/sample - loss: 0.5850 - accuracy: 0.7800\n",
      "Train on 10000 samples\n",
      "10000/10000 [==============================] - 13s 1ms/sample - loss: 0.5392 - accuracy: 0.8048\n",
      "Train on 10000 samples\n",
      "10000/10000 [==============================] - 13s 1ms/sample - loss: 0.5028 - accuracy: 0.8154\n",
      "Train on 10000 samples\n",
      "10000/10000 [==============================] - 13s 1ms/sample - loss: 0.4711 - accuracy: 0.8282\n",
      "Train on 10000 samples\n",
      "10000/10000 [==============================] - 13s 1ms/sample - loss: 0.4503 - accuracy: 0.8343\n",
      "Train on 10000 samples\n",
      "10000/10000 [==============================] - 13s 1ms/sample - loss: 0.4260 - accuracy: 0.8436\n",
      "Train on 10000 samples\n",
      "10000/10000 [==============================] - 13s 1ms/sample - loss: 0.4269 - accuracy: 0.8452\n",
      "Train on 10000 samples\n",
      "10000/10000 [==============================] - 13s 1ms/sample - loss: 0.4145 - accuracy: 0.8524\n",
      "Train on 10000 samples\n",
      "10000/10000 [==============================] - 13s 1ms/sample - loss: 0.3971 - accuracy: 0.8533\n",
      "Train on 10000 samples\n",
      "10000/10000 [==============================] - 13s 1ms/sample - loss: 0.3827 - accuracy: 0.8582\n",
      "Train on 10000 samples\n",
      "10000/10000 [==============================] - 13s 1ms/sample - loss: 0.3769 - accuracy: 0.8608\n",
      "Train on 10000 samples\n",
      "10000/10000 [==============================] - 13s 1ms/sample - loss: 0.3618 - accuracy: 0.8639\n",
      "Train on 10000 samples\n",
      "10000/10000 [==============================] - 14s 1ms/sample - loss: 0.3535 - accuracy: 0.8688\n",
      "Train on 10000 samples\n",
      "10000/10000 [==============================] - 13s 1ms/sample - loss: 0.3457 - accuracy: 0.8735\n",
      "Train on 10000 samples\n",
      "10000/10000 [==============================] - 13s 1ms/sample - loss: 0.3433 - accuracy: 0.8753\n",
      "Train on 10000 samples\n",
      "10000/10000 [==============================] - 13s 1ms/sample - loss: 0.3424 - accuracy: 0.8738\n",
      "Train on 10000 samples\n",
      "10000/10000 [==============================] - 13s 1ms/sample - loss: 0.3332 - accuracy: 0.8794\n",
      "Train on 10000 samples\n",
      "10000/10000 [==============================] - 13s 1ms/sample - loss: 0.3352 - accuracy: 0.8742\n",
      "Train on 10000 samples\n",
      "10000/10000 [==============================] - 13s 1ms/sample - loss: 0.3178 - accuracy: 0.8823\n",
      "Train on 10000 samples\n",
      "10000/10000 [==============================] - 13s 1ms/sample - loss: 0.3256 - accuracy: 0.8809\n",
      "Train on 10000 samples\n",
      "10000/10000 [==============================] - 13s 1ms/sample - loss: 0.3210 - accuracy: 0.8850\n",
      "Train on 10000 samples\n",
      "10000/10000 [==============================] - 13s 1ms/sample - loss: 0.3240 - accuracy: 0.8765\n",
      "Train on 10000 samples\n",
      "10000/10000 [==============================] - 13s 1ms/sample - loss: 0.3073 - accuracy: 0.8857\n",
      "Train on 10000 samples\n",
      "10000/10000 [==============================] - 13s 1ms/sample - loss: 0.2933 - accuracy: 0.8917\n",
      "Train on 10000 samples\n",
      "10000/10000 [==============================] - 13s 1ms/sample - loss: 0.3076 - accuracy: 0.8864\n"
     ]
    }
   ],
   "source": [
    "num_iter = dataLoader.num_train//BATCH_SIZE\n",
    "for e in range(EPOCH):\n",
    "    for n in range(num_iter):\n",
    "        x_batch, y_batch = dataLoader.get_batch_train(BATCH_SIZE)\n",
    "        model.fit(x_batch, y_batch)"
   ]
  },
  {
   "cell_type": "markdown",
   "metadata": {},
   "source": [
    "## 测试"
   ]
  },
  {
   "cell_type": "code",
   "execution_count": 10,
   "metadata": {},
   "outputs": [
    {
     "name": "stdout",
     "output_type": "stream",
     "text": [
      "2000/2000 - 1s - loss: 0.3574 - accuracy: 0.8805\n"
     ]
    },
    {
     "data": {
      "text/plain": [
       "[0.357379168510437, 0.8805]"
      ]
     },
     "execution_count": 10,
     "metadata": {},
     "output_type": "execute_result"
    }
   ],
   "source": [
    "x_test, y_test = dataLoader.get_batch_test(2000)\n",
    "model.evaluate(x_test, y_test, verbose=2)"
   ]
  },
  {
   "cell_type": "code",
   "execution_count": null,
   "metadata": {},
   "outputs": [],
   "source": []
  }
 ],
 "metadata": {
  "kernelspec": {
   "display_name": "Python 3",
   "language": "python",
   "name": "python3"
  },
  "language_info": {
   "codemirror_mode": {
    "name": "ipython",
    "version": 3
   },
   "file_extension": ".py",
   "mimetype": "text/x-python",
   "name": "python",
   "nbconvert_exporter": "python",
   "pygments_lexer": "ipython3",
   "version": "3.7.4"
  }
 },
 "nbformat": 4,
 "nbformat_minor": 2
}
