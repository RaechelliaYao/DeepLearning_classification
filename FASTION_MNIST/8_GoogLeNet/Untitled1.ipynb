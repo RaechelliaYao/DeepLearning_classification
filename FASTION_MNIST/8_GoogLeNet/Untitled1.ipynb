{
 "cells": [
  {
   "cell_type": "markdown",
   "metadata": {},
   "source": [
    "# GoogLeNet\n",
    "有没有一种方法既能保持网络结构的稀疏性，又能利用密集矩阵的高计算性能。大量的文献表明可以将稀疏矩阵聚类为较为密集的子矩阵来提高计算性能，就如人类的大脑是可以看做是神经元的重复堆积，因此，GoogLeNet团队提出了Inception网络结构，就是构造一种“基础神经元”结构，来搭建一个稀疏性、高计算性能的网络结构。"
   ]
  },
  {
   "cell_type": "markdown",
   "metadata": {},
   "source": [
    "## 导入库"
   ]
  },
  {
   "cell_type": "code",
   "execution_count": null,
   "metadata": {},
   "outputs": [],
   "source": [
    "import tensorflow as tf\n",
    "from tensorflow import keras\n",
    "import numpy as np"
   ]
  },
  {
   "cell_type": "markdown",
   "metadata": {},
   "source": [
    "## 参数"
   ]
  },
  {
   "cell_type": "code",
   "execution_count": null,
   "metadata": {},
   "outputs": [],
   "source": [
    "BATCH_SIZE = 10000\n",
    "EPOCH = 5"
   ]
  },
  {
   "cell_type": "markdown",
   "metadata": {},
   "source": [
    "## 数据导入及调整大小"
   ]
  },
  {
   "cell_type": "code",
   "execution_count": null,
   "metadata": {},
   "outputs": [],
   "source": [
    "class DataLoader():\n",
    "    def __init__(self):\n",
    "        fashion_mnist = tf.keras.datasets.fashion_mnist\n",
    "        (self.train_images, self.train_labels), (self.test_images, self.test_labels) = fashion_mnist.load_data()\n",
    "        self.train_images = np.expand_dims(self.train_images.astype(np.float32)/255.0, axis=-1)\n",
    "        self.test_images = np.expand_dims(self.test_images.astype(np.float32)/255.0, axis=-1)\n",
    "        self.train_labels = self.train_labels.astype(np.int32)\n",
    "        self.test_labels = self.test_labels.astype(np.int32)\n",
    "        self.num_train, self.num_test = self.train_images.shape[0], self.test_images.shape[0]\n",
    "        \n",
    "    def get_batch_train(self, batch_size):\n",
    "        index = np.random.randint(0, np.shape(self.train_images)[0], batch_size)\n",
    "        resized_images = tf.image.resize_with_pad(self.train_images[index], 224, 224,)\n",
    "        return resized_images.numpy(), self.train_labels[index]\n",
    "    \n",
    "    def get_batch_test(self, batch_size):\n",
    "        index = np.random.randint(0, np.shape(self.test_images)[0], batch_size)\n",
    "        resized_images = tf.image.resize_with_pad(self.test_images[index], 224, 224,)\n",
    "        return resized_images.numpy(), self.test_labels[index]\n"
   ]
  },
  {
   "cell_type": "code",
   "execution_count": null,
   "metadata": {},
   "outputs": [],
   "source": [
    "dataLoader = DataLoader()\n",
    "x_batch, y_batch = dataLoader.get_batch_train(BATCH_SIZE)"
   ]
  },
  {
   "cell_type": "markdown",
   "metadata": {},
   "source": [
    "## 定义层"
   ]
  },
  {
   "cell_type": "code",
   "execution_count": null,
   "metadata": {},
   "outputs": [],
   "source": [
    "class Inception(keras.layers.Layer):\n",
    "    def __init__(self,c1, c2, c3, c4):\n",
    "        super().__init__()\n",
    "        self.p1_1 = keras.layers.Conv2D(c1, kernel_size=1, activation='relu', padding='same')\n",
    "        self.p2_1 = keras.layers.Conv2D(c2[0], kernel_size=1, padding='same', activation='relu')\n",
    "        self.p2_2 = keras.layers.Conv2D(c2[1], kernel_size=3, padding='same', activation='relu')\n",
    "        self.p3_1 = keras.layers.Conv2D(c3[0], kernel_size=1, padding='same', activation='relu')\n",
    "        self.p3_2 = keras.layers.Conv2D(c3[1], kernel_size=5, padding='same', activation='relu')\n",
    "        self.p4_1 = keras.layers.MaxPool2D(pool_size=3, padding='same', strides=1)\n",
    "        self.p4_2 = keras.layers.Conv2D(c4, kernel_size=1, padding='same', activation='relu')\n",
    "\n",
    "    def call(self, x):\n",
    "        p1 = self.p1_1(x)\n",
    "        p2 = self.p2_2(self.p2_1(x))\n",
    "        p3 = self.p3_2(self.p3_1(x))\n",
    "        p4 = self.p4_2(self.p4_1(x))\n",
    "        return tf.concat([p1, p2, p3, p4], axis=-1)"
   ]
  },
  {
   "cell_type": "markdown",
   "metadata": {},
   "source": [
    "## 定义网络"
   ]
  },
  {
   "cell_type": "code",
   "execution_count": null,
   "metadata": {},
   "outputs": [],
   "source": [
    "b1 = keras.models.Sequential()\n",
    "b1.add(keras.layers.Conv2D(64, kernel_size=7, strides=2, padding='same', activation='relu'))\n",
    "b1.add(keras.layers.MaxPool2D(pool_size=3, strides=2, padding='same'))\n",
    "\n",
    "b2 = keras.models.Sequential()\n",
    "b2.add(keras.layers.Conv2D(64, kernel_size=1, padding='same', activation='relu'))\n",
    "b2.add(keras.layers.Conv2D(192, kernel_size=3, padding='same', activation='relu'))\n",
    "b2.add(keras.layers.MaxPool2D(pool_size=3, strides=2, padding='same'))\n",
    "\n",
    "b3 = keras.models.Sequential()\n",
    "b3.add(Inception(64, (96, 128), (16, 32), 32))\n",
    "b3.add(Inception(128, (128, 192), (32, 96), 64))\n",
    "b3.add(keras.layers.MaxPool2D(pool_size=3, strides=2, padding='same'))\n",
    "\n",
    "b4 = keras.models.Sequential()\n",
    "b4.add(Inception(192, (96, 208), (16, 48), 64))\n",
    "b4.add(Inception(160, (112, 224), (24, 64), 64))\n",
    "b4.add(Inception(128, (128, 256), (24, 64), 64))\n",
    "b4.add(Inception(112, (144, 288), (32, 64), 64))\n",
    "b4.add(Inception(256, (160, 320), (32, 128), 128))\n",
    "b4.add(keras.layers.MaxPool2D(pool_size=3, strides=2, padding='same'))\n",
    "\n",
    "b5 = keras.models.Sequential()\n",
    "b5.add(Inception(256, (160, 320), (32, 128), 128))\n",
    "b5.add(Inception(384, (192, 384), (48, 128), 128))\n",
    "b5.add(keras.layers.GlobalAvgPool2D())\n",
    "\n",
    "model = keras.models.Sequential([b1, b2, b3, b4, b5, tf.keras.layers.Dense(10)])"
   ]
  },
  {
   "cell_type": "markdown",
   "metadata": {},
   "source": [
    "## 损失和优化"
   ]
  },
  {
   "cell_type": "code",
   "execution_count": null,
   "metadata": {},
   "outputs": [],
   "source": [
    "model.compile(optimizer='adam', loss='sparse_categorical_crossentropy', metrics=['accuracy'])"
   ]
  },
  {
   "cell_type": "markdown",
   "metadata": {},
   "source": [
    "## 训练"
   ]
  },
  {
   "cell_type": "code",
   "execution_count": null,
   "metadata": {
    "scrolled": false
   },
   "outputs": [],
   "source": [
    "num_iter = dataLoader.num_train//BATCH_SIZE\n",
    "for e in range(EPOCH):\n",
    "    for n in range(num_iter):\n",
    "        x_batch, y_batch = dataLoader.get_batch_train(BATCH_SIZE)\n",
    "        model.fit(x_batch, y_batch)"
   ]
  },
  {
   "cell_type": "code",
   "execution_count": null,
   "metadata": {},
   "outputs": [],
   "source": [
    "x_test, y_test = dataLoader.get_batch_test(2000)\n",
    "model.evaluate(x_test, y_test, verbose=2)"
   ]
  }
 ],
 "metadata": {
  "kernelspec": {
   "display_name": "Python 3",
   "language": "python",
   "name": "python3"
  },
  "language_info": {
   "codemirror_mode": {
    "name": "ipython",
    "version": 3
   },
   "file_extension": ".py",
   "mimetype": "text/x-python",
   "name": "python",
   "nbconvert_exporter": "python",
   "pygments_lexer": "ipython3",
   "version": "3.7.4"
  }
 },
 "nbformat": 4,
 "nbformat_minor": 2
}
