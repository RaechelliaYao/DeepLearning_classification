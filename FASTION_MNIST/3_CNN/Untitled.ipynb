{
 "cells": [
  {
   "cell_type": "markdown",
   "metadata": {},
   "source": [
    "# 卷积神经网络-CNN\n",
    "卷积神经网络（convolutional neural network）是含有卷积层（convolutional layer）的神经网络。本章中介绍的卷积神经网络均使用最常见的二维卷积层。它有高和宽两个空间维度，常用来处理图像数据。"
   ]
  },
  {
   "cell_type": "markdown",
   "metadata": {},
   "source": [
    "## 导入库"
   ]
  },
  {
   "cell_type": "code",
   "execution_count": 1,
   "metadata": {},
   "outputs": [],
   "source": [
    "import tensorflow as tf\n",
    "from tensorflow import keras\n",
    "import pandas as pd\n",
    "import matplotlib.pyplot as plt\n",
    "%matplotlib inline"
   ]
  },
  {
   "cell_type": "markdown",
   "metadata": {},
   "source": [
    "## 超参"
   ]
  },
  {
   "cell_type": "code",
   "execution_count": 2,
   "metadata": {},
   "outputs": [],
   "source": [
    "EPOCHS = 50\n",
    "BATCH_SIZE = 256\n",
    "VERBOSE = 1\n",
    "VALIDATION_SPLIT = 0.3"
   ]
  },
  {
   "cell_type": "markdown",
   "metadata": {},
   "source": [
    "## 导入数据集"
   ]
  },
  {
   "cell_type": "code",
   "execution_count": 3,
   "metadata": {},
   "outputs": [],
   "source": [
    "(train_images, train_labels), (test_images, test_labels) = keras.datasets.fashion_mnist.load_data()"
   ]
  },
  {
   "cell_type": "code",
   "execution_count": 4,
   "metadata": {},
   "outputs": [
    {
     "data": {
      "text/plain": [
       "(60000, 28, 28)"
      ]
     },
     "execution_count": 4,
     "metadata": {},
     "output_type": "execute_result"
    }
   ],
   "source": [
    "train_images.shape"
   ]
  },
  {
   "cell_type": "code",
   "execution_count": 5,
   "metadata": {},
   "outputs": [],
   "source": [
    "train_images = tf.reshape(train_images, (train_images.shape[0], train_images.shape[1], train_images.shape[2], -1))\n",
    "test_images = tf.reshape(test_images, (test_images.shape[0], test_images.shape[1], test_images.shape[2], -1))"
   ]
  },
  {
   "cell_type": "code",
   "execution_count": 6,
   "metadata": {},
   "outputs": [
    {
     "data": {
      "text/plain": [
       "TensorShape([60000, 28, 28, 1])"
      ]
     },
     "execution_count": 6,
     "metadata": {},
     "output_type": "execute_result"
    }
   ],
   "source": [
    "train_images.shape"
   ]
  },
  {
   "cell_type": "markdown",
   "metadata": {},
   "source": [
    "## 定义模型"
   ]
  },
  {
   "cell_type": "code",
   "execution_count": 8,
   "metadata": {},
   "outputs": [
    {
     "name": "stdout",
     "output_type": "stream",
     "text": [
      "Model: \"sequential\"\n",
      "_________________________________________________________________\n",
      "Layer (type)                 Output Shape              Param #   \n",
      "=================================================================\n",
      "conv2d (Conv2D)              (None, 26, 26, 32)        320       \n",
      "_________________________________________________________________\n",
      "max_pooling2d (MaxPooling2D) (None, 13, 13, 32)        0         \n",
      "_________________________________________________________________\n",
      "flatten (Flatten)            (None, 5408)              0         \n",
      "_________________________________________________________________\n",
      "dense (Dense)                (None, 32)                173088    \n",
      "_________________________________________________________________\n",
      "dense_1 (Dense)              (None, 10)                330       \n",
      "=================================================================\n",
      "Total params: 173,738\n",
      "Trainable params: 173,738\n",
      "Non-trainable params: 0\n",
      "_________________________________________________________________\n"
     ]
    }
   ],
   "source": [
    "model = keras.Sequential([\n",
    "    keras.layers.Conv2D(filters=32, kernel_size=(3,3), strides=(1,1), padding='valid', activation='relu', input_shape=(28, 28, 1)),\n",
    "    keras.layers.MaxPool2D(pool_size=(2,2)),\n",
    "    \n",
    "    keras.layers.Flatten(),\n",
    "    keras.layers.Dense(32, activation='relu'),\n",
    "    keras.layers.Dense(10, activation='softmax')\n",
    "])\n",
    "model.summary()"
   ]
  },
  {
   "cell_type": "markdown",
   "metadata": {},
   "source": [
    "## 设置优化器和损失函数"
   ]
  },
  {
   "cell_type": "code",
   "execution_count": 9,
   "metadata": {},
   "outputs": [],
   "source": [
    "model.compile(optimizer=keras.optimizers.Adam(), loss=keras.losses.SparseCategoricalCrossentropy(), metrics=['accuracy'])"
   ]
  },
  {
   "cell_type": "markdown",
   "metadata": {},
   "source": [
    "## 开始训练"
   ]
  },
  {
   "cell_type": "code",
   "execution_count": 10,
   "metadata": {},
   "outputs": [
    {
     "name": "stdout",
     "output_type": "stream",
     "text": [
      "Train on 60000 samples\n",
      "Epoch 1/50\n",
      "60000/60000 [==============================] - 3s 45us/sample - loss: 2.7669 - accuracy: 0.4316\n",
      "Epoch 2/50\n",
      "60000/60000 [==============================] - 1s 19us/sample - loss: 1.3171 - accuracy: 0.5140\n",
      "Epoch 3/50\n",
      "60000/60000 [==============================] - 1s 18us/sample - loss: 0.9867 - accuracy: 0.6470\n",
      "Epoch 4/50\n",
      "60000/60000 [==============================] - 1s 18us/sample - loss: 0.7233 - accuracy: 0.7614\n",
      "Epoch 5/50\n",
      "60000/60000 [==============================] - 1s 19us/sample - loss: 0.4892 - accuracy: 0.8539\n",
      "Epoch 6/50\n",
      "60000/60000 [==============================] - 1s 19us/sample - loss: 0.3417 - accuracy: 0.8840\n",
      "Epoch 7/50\n",
      "60000/60000 [==============================] - 1s 19us/sample - loss: 0.2970 - accuracy: 0.8967\n",
      "Epoch 8/50\n",
      "60000/60000 [==============================] - 1s 19us/sample - loss: 0.2803 - accuracy: 0.9003\n",
      "Epoch 9/50\n",
      "60000/60000 [==============================] - 1s 18us/sample - loss: 0.2596 - accuracy: 0.9071\n",
      "Epoch 10/50\n",
      "60000/60000 [==============================] - 1s 18us/sample - loss: 0.2467 - accuracy: 0.9127\n",
      "Epoch 11/50\n",
      "60000/60000 [==============================] - 1s 19us/sample - loss: 0.2359 - accuracy: 0.9153\n",
      "Epoch 12/50\n",
      "60000/60000 [==============================] - 1s 18us/sample - loss: 0.2282 - accuracy: 0.9186\n",
      "Epoch 13/50\n",
      "60000/60000 [==============================] - 1s 18us/sample - loss: 0.2212 - accuracy: 0.9208\n",
      "Epoch 14/50\n",
      "60000/60000 [==============================] - 1s 19us/sample - loss: 0.2123 - accuracy: 0.9241\n",
      "Epoch 15/50\n",
      "60000/60000 [==============================] - 1s 18us/sample - loss: 0.2023 - accuracy: 0.9267\n",
      "Epoch 16/50\n",
      "60000/60000 [==============================] - 1s 19us/sample - loss: 0.1983 - accuracy: 0.9287\n",
      "Epoch 17/50\n",
      "60000/60000 [==============================] - 1s 18us/sample - loss: 0.1970 - accuracy: 0.9282\n",
      "Epoch 18/50\n",
      "60000/60000 [==============================] - 1s 18us/sample - loss: 0.1897 - accuracy: 0.9315\n",
      "Epoch 19/50\n",
      "60000/60000 [==============================] - 1s 18us/sample - loss: 0.1817 - accuracy: 0.9345\n",
      "Epoch 20/50\n",
      "60000/60000 [==============================] - 1s 19us/sample - loss: 0.1811 - accuracy: 0.9337\n",
      "Epoch 21/50\n",
      "60000/60000 [==============================] - 1s 18us/sample - loss: 0.1751 - accuracy: 0.9360\n",
      "Epoch 22/50\n",
      "60000/60000 [==============================] - 1s 18us/sample - loss: 0.1728 - accuracy: 0.9373\n",
      "Epoch 23/50\n",
      "60000/60000 [==============================] - 1s 19us/sample - loss: 0.1681 - accuracy: 0.9392\n",
      "Epoch 24/50\n",
      "60000/60000 [==============================] - 1s 19us/sample - loss: 0.1600 - accuracy: 0.9413\n",
      "Epoch 25/50\n",
      "60000/60000 [==============================] - 1s 19us/sample - loss: 0.1612 - accuracy: 0.9409\n",
      "Epoch 26/50\n",
      "60000/60000 [==============================] - 1s 18us/sample - loss: 0.1605 - accuracy: 0.9415\n",
      "Epoch 27/50\n",
      "60000/60000 [==============================] - 1s 19us/sample - loss: 0.1588 - accuracy: 0.9413\n",
      "Epoch 28/50\n",
      "60000/60000 [==============================] - 1s 19us/sample - loss: 0.1526 - accuracy: 0.9442\n",
      "Epoch 29/50\n",
      "60000/60000 [==============================] - 1s 19us/sample - loss: 0.1476 - accuracy: 0.9458\n",
      "Epoch 30/50\n",
      "60000/60000 [==============================] - 1s 19us/sample - loss: 0.1461 - accuracy: 0.9466\n",
      "Epoch 31/50\n",
      "60000/60000 [==============================] - 1s 19us/sample - loss: 0.1392 - accuracy: 0.9499\n",
      "Epoch 32/50\n",
      "60000/60000 [==============================] - 1s 19us/sample - loss: 0.1432 - accuracy: 0.9475\n",
      "Epoch 33/50\n",
      "60000/60000 [==============================] - 1s 19us/sample - loss: 0.1396 - accuracy: 0.9491\n",
      "Epoch 34/50\n",
      "60000/60000 [==============================] - 1s 19us/sample - loss: 0.1328 - accuracy: 0.9523\n",
      "Epoch 35/50\n",
      "60000/60000 [==============================] - 1s 19us/sample - loss: 0.1326 - accuracy: 0.9522\n",
      "Epoch 36/50\n",
      "60000/60000 [==============================] - 1s 19us/sample - loss: 0.1291 - accuracy: 0.9527\n",
      "Epoch 37/50\n",
      "60000/60000 [==============================] - 1s 20us/sample - loss: 0.1270 - accuracy: 0.9539\n",
      "Epoch 38/50\n",
      "60000/60000 [==============================] - 1s 19us/sample - loss: 0.1219 - accuracy: 0.9558\n",
      "Epoch 39/50\n",
      "60000/60000 [==============================] - 1s 19us/sample - loss: 0.1220 - accuracy: 0.9553\n",
      "Epoch 40/50\n",
      "60000/60000 [==============================] - 1s 19us/sample - loss: 0.1222 - accuracy: 0.9554\n",
      "Epoch 41/50\n",
      "60000/60000 [==============================] - 1s 19us/sample - loss: 0.1236 - accuracy: 0.9557\n",
      "Epoch 42/50\n",
      "60000/60000 [==============================] - 1s 19us/sample - loss: 0.1167 - accuracy: 0.9576\n",
      "Epoch 43/50\n",
      "60000/60000 [==============================] - 1s 19us/sample - loss: 0.1223 - accuracy: 0.9545\n",
      "Epoch 44/50\n",
      "60000/60000 [==============================] - 1s 19us/sample - loss: 0.1114 - accuracy: 0.9590\n",
      "Epoch 45/50\n",
      "60000/60000 [==============================] - 1s 19us/sample - loss: 0.1128 - accuracy: 0.9584\n",
      "Epoch 46/50\n",
      "60000/60000 [==============================] - 1s 19us/sample - loss: 0.1140 - accuracy: 0.9594\n",
      "Epoch 47/50\n",
      "60000/60000 [==============================] - 1s 19us/sample - loss: 0.1109 - accuracy: 0.9598\n",
      "Epoch 48/50\n",
      "60000/60000 [==============================] - 1s 19us/sample - loss: 0.1056 - accuracy: 0.9614\n",
      "Epoch 49/50\n",
      "60000/60000 [==============================] - 1s 19us/sample - loss: 0.1059 - accuracy: 0.9611\n",
      "Epoch 50/50\n",
      "60000/60000 [==============================] - 1s 19us/sample - loss: 0.1046 - accuracy: 0.9629\n"
     ]
    }
   ],
   "source": [
    "history = model.fit(train_images, train_labels, batch_size=BATCH_SIZE, epochs=EPOCHS, verbose=VERBOSE)"
   ]
  },
  {
   "cell_type": "markdown",
   "metadata": {},
   "source": [
    "## 绘制梯度下降图"
   ]
  },
  {
   "cell_type": "code",
   "execution_count": 13,
   "metadata": {
    "scrolled": true
   },
   "outputs": [
    {
     "data": {
      "image/png": "[encoded data removed]",
      "text/plain": [
       "<Figure size 576x360 with 1 Axes>"
      ]
     },
     "metadata": {
      "needs_background": "light"
     },
     "output_type": "display_data"
    }
   ],
   "source": [
    "def plot_learning_curves(history):\n",
    "    pd.DataFrame(history.history).plot(figsize=(8, 5))\n",
    "    plt.grid(True)\n",
    "    plt.gca().set_ylim(0, 2)\n",
    "    plt.show()\n",
    "    \n",
    "plot_learning_curves(history)"
   ]
  },
  {
   "cell_type": "markdown",
   "metadata": {},
   "source": [
    "## 测试训练好的模型"
   ]
  },
  {
   "cell_type": "code",
   "execution_count": 14,
   "metadata": {},
   "outputs": [
    {
     "name": "stdout",
     "output_type": "stream",
     "text": [
      "10000/10000 [==============================] - 1s 53us/sample - loss: 0.5953 - accuracy: 0.8857\n"
     ]
    },
    {
     "data": {
      "text/plain": [
       "[0.5952885025709868, 0.88570005]"
      ]
     },
     "execution_count": 14,
     "metadata": {},
     "output_type": "execute_result"
    }
   ],
   "source": [
    "model.evaluate(test_images, test_labels)"
   ]
  },
  {
   "cell_type": "markdown",
   "metadata": {},
   "source": [
    "## 保存模型 "
   ]
  },
  {
   "cell_type": "code",
   "execution_count": 15,
   "metadata": {},
   "outputs": [],
   "source": [
    "model.save('./save/save_model/model.h5')"
   ]
  },
  {
   "cell_type": "code",
   "execution_count": 16,
   "metadata": {},
   "outputs": [],
   "source": [
    "model.save_weights('./save/save_weights/model_weights.h5')"
   ]
  },
  {
   "cell_type": "code",
   "execution_count": null,
   "metadata": {},
   "outputs": [],
   "source": []
  }
 ],
 "metadata": {
  "kernelspec": {
   "display_name": "Python 3",
   "language": "python",
   "name": "python3"
  },
  "language_info": {
   "codemirror_mode": {
    "name": "ipython",
    "version": 3
   },
   "file_extension": ".py",
   "mimetype": "text/x-python",
   "name": "python",
   "nbconvert_exporter": "python",
   "pygments_lexer": "ipython3",
   "version": "3.7.4"
  }
 },
 "nbformat": 4,
 "nbformat_minor": 2
}
