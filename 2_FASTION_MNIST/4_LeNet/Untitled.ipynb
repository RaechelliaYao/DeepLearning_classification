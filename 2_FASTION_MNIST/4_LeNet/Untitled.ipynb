{
 "cells": [
  {
   "cell_type": "markdown",
   "metadata": {},
   "source": [
    "# LeNet\n",
    "LeNet展示了通过梯度下降训练卷积神经网络可以达到手写数字识别在当时最先进的结果。这个奠基性的工作第一次将卷积神经网络推上舞台，为世人所知。"
   ]
  },
  {
   "cell_type": "markdown",
   "metadata": {},
   "source": [
    "## 导入库"
   ]
  },
  {
   "cell_type": "code",
   "execution_count": 1,
   "metadata": {},
   "outputs": [],
   "source": [
    "import tensorflow as tf\n",
    "from tensorflow import keras\n",
    "import pandas as pd\n",
    "import matplotlib.pyplot as plt\n",
    "%matplotlib inline"
   ]
  },
  {
   "cell_type": "markdown",
   "metadata": {},
   "source": [
    "## 超参"
   ]
  },
  {
   "cell_type": "code",
   "execution_count": 2,
   "metadata": {},
   "outputs": [],
   "source": [
    "EPOCHS = 50\n",
    "VALIDATION_SPLIT = 0.2\n",
    "LR = 0.01"
   ]
  },
  {
   "cell_type": "markdown",
   "metadata": {},
   "source": [
    "## 导入数据"
   ]
  },
  {
   "cell_type": "code",
   "execution_count": 3,
   "metadata": {},
   "outputs": [],
   "source": [
    "(train_images, train_labels), (test_images, test_labels) = keras.datasets.fashion_mnist.load_data()"
   ]
  },
  {
   "cell_type": "code",
   "execution_count": 4,
   "metadata": {},
   "outputs": [],
   "source": [
    "train_images = tf.reshape(train_images, (train_images.shape[0], train_images.shape[1], train_images.shape[2], 1))\n",
    "test_images = tf.reshape(test_images, (test_images.shape[0], test_images.shape[1], test_images.shape[2], 1))"
   ]
  },
  {
   "cell_type": "code",
   "execution_count": 5,
   "metadata": {},
   "outputs": [
    {
     "data": {
      "text/plain": [
       "TensorShape([60000, 28, 28, 1])"
      ]
     },
     "execution_count": 5,
     "metadata": {},
     "output_type": "execute_result"
    }
   ],
   "source": [
    "train_images.shape"
   ]
  },
  {
   "cell_type": "markdown",
   "metadata": {},
   "source": [
    "## 定义模型"
   ]
  },
  {
   "cell_type": "code",
   "execution_count": 6,
   "metadata": {},
   "outputs": [
    {
     "name": "stdout",
     "output_type": "stream",
     "text": [
      "Model: \"sequential\"\n",
      "_________________________________________________________________\n",
      "Layer (type)                 Output Shape              Param #   \n",
      "=================================================================\n",
      "conv2d (Conv2D)              (None, 24, 24, 6)         156       \n",
      "_________________________________________________________________\n",
      "max_pooling2d (MaxPooling2D) (None, 12, 12, 6)         0         \n",
      "_________________________________________________________________\n",
      "conv2d_1 (Conv2D)            (None, 8, 8, 16)          2416      \n",
      "_________________________________________________________________\n",
      "max_pooling2d_1 (MaxPooling2 (None, 4, 4, 16)          0         \n",
      "_________________________________________________________________\n",
      "flatten (Flatten)            (None, 256)               0         \n",
      "_________________________________________________________________\n",
      "dense (Dense)                (None, 120)               30840     \n",
      "_________________________________________________________________\n",
      "dense_1 (Dense)              (None, 84)                10164     \n",
      "_________________________________________________________________\n",
      "dense_2 (Dense)              (None, 10)                850       \n",
      "=================================================================\n",
      "Total params: 44,426\n",
      "Trainable params: 44,426\n",
      "Non-trainable params: 0\n",
      "_________________________________________________________________\n"
     ]
    }
   ],
   "source": [
    "model = keras.models.Sequential([\n",
    "    keras.layers.Conv2D(filters=6, kernel_size=5, activation='sigmoid', input_shape=(28, 28, 1)),\n",
    "    keras.layers.MaxPool2D(pool_size=2, strides=2),\n",
    "    \n",
    "    keras.layers.Conv2D(filters=16, kernel_size=5, activation='sigmoid'),\n",
    "    keras.layers.MaxPool2D(pool_size=2, strides=2),\n",
    "    \n",
    "    keras.layers.Flatten(),\n",
    "    keras.layers.Dense(120, activation='sigmoid'),\n",
    "    keras.layers.Dense(84, activation='sigmoid'),\n",
    "    keras.layers.Dense(10, activation='sigmoid')\n",
    "])\n",
    "model.summary()"
   ]
  },
  {
   "cell_type": "markdown",
   "metadata": {},
   "source": [
    "## 设置优化器和损失函数"
   ]
  },
  {
   "cell_type": "code",
   "execution_count": 7,
   "metadata": {},
   "outputs": [],
   "source": [
    "optimizer = keras.optimizers.SGD(learning_rate=LR)\n",
    "model.compile(optimizer=optimizer, loss='sparse_categorical_crossentropy', metrics=['accuracy'])"
   ]
  },
  {
   "cell_type": "markdown",
   "metadata": {},
   "source": [
    "## 开始训练"
   ]
  },
  {
   "cell_type": "code",
   "execution_count": 8,
   "metadata": {},
   "outputs": [
    {
     "name": "stdout",
     "output_type": "stream",
     "text": [
      "Train on 48000 samples, validate on 12000 samples\n",
      "Epoch 1/50\n",
      "48000/48000 [==============================] - 4s 87us/sample - loss: 2.3034 - accuracy: 0.1091 - val_loss: 2.3003 - val_accuracy: 0.0957\n",
      "Epoch 2/50\n",
      "48000/48000 [==============================] - 3s 63us/sample - loss: 2.2992 - accuracy: 0.1251 - val_loss: 2.2982 - val_accuracy: 0.1003\n",
      "Epoch 3/50\n",
      "48000/48000 [==============================] - 3s 63us/sample - loss: 2.2957 - accuracy: 0.1402 - val_loss: 2.2927 - val_accuracy: 0.1003\n",
      "Epoch 4/50\n",
      "48000/48000 [==============================] - 3s 62us/sample - loss: 2.2874 - accuracy: 0.1775 - val_loss: 2.2788 - val_accuracy: 0.1916\n",
      "Epoch 5/50\n",
      "48000/48000 [==============================] - 3s 64us/sample - loss: 2.2554 - accuracy: 0.2830 - val_loss: 2.2105 - val_accuracy: 0.3703\n",
      "Epoch 6/50\n",
      "48000/48000 [==============================] - 3s 64us/sample - loss: 2.0325 - accuracy: 0.4008 - val_loss: 1.7639 - val_accuracy: 0.4571\n",
      "Epoch 7/50\n",
      "48000/48000 [==============================] - 3s 63us/sample - loss: 1.5402 - accuracy: 0.5077 - val_loss: 1.3644 - val_accuracy: 0.5527\n",
      "Epoch 8/50\n",
      "48000/48000 [==============================] - 3s 63us/sample - loss: 1.2718 - accuracy: 0.5697 - val_loss: 1.1834 - val_accuracy: 0.6182\n",
      "Epoch 9/50\n",
      "48000/48000 [==============================] - 3s 63us/sample - loss: 1.1353 - accuracy: 0.6004 - val_loss: 1.0724 - val_accuracy: 0.6207\n",
      "Epoch 10/50\n",
      "48000/48000 [==============================] - 3s 62us/sample - loss: 1.0384 - accuracy: 0.6235 - val_loss: 0.9851 - val_accuracy: 0.6488\n",
      "Epoch 11/50\n",
      "48000/48000 [==============================] - 3s 62us/sample - loss: 0.9639 - accuracy: 0.6463 - val_loss: 0.9197 - val_accuracy: 0.6712\n",
      "Epoch 12/50\n",
      "48000/48000 [==============================] - 3s 62us/sample - loss: 0.9032 - accuracy: 0.6678 - val_loss: 0.8692 - val_accuracy: 0.6717\n",
      "Epoch 13/50\n",
      "48000/48000 [==============================] - 3s 62us/sample - loss: 0.8538 - accuracy: 0.6911 - val_loss: 0.8229 - val_accuracy: 0.6955\n",
      "Epoch 14/50\n",
      "48000/48000 [==============================] - 3s 62us/sample - loss: 0.8140 - accuracy: 0.7064 - val_loss: 0.7836 - val_accuracy: 0.7175\n",
      "Epoch 15/50\n",
      "48000/48000 [==============================] - 3s 62us/sample - loss: 0.7775 - accuracy: 0.7201 - val_loss: 0.7499 - val_accuracy: 0.7342\n",
      "Epoch 16/50\n",
      "48000/48000 [==============================] - 3s 62us/sample - loss: 0.7471 - accuracy: 0.7277 - val_loss: 0.7238 - val_accuracy: 0.7421\n",
      "Epoch 17/50\n",
      "48000/48000 [==============================] - 3s 62us/sample - loss: 0.7217 - accuracy: 0.7347 - val_loss: 0.6997 - val_accuracy: 0.7373\n",
      "Epoch 18/50\n",
      "48000/48000 [==============================] - 3s 62us/sample - loss: 0.6994 - accuracy: 0.7411 - val_loss: 0.6784 - val_accuracy: 0.7547\n",
      "Epoch 19/50\n",
      "48000/48000 [==============================] - 3s 62us/sample - loss: 0.6797 - accuracy: 0.7458 - val_loss: 0.6600 - val_accuracy: 0.7563\n",
      "Epoch 20/50\n",
      "48000/48000 [==============================] - 3s 62us/sample - loss: 0.6628 - accuracy: 0.7506 - val_loss: 0.6472 - val_accuracy: 0.7563\n",
      "Epoch 21/50\n",
      "48000/48000 [==============================] - 3s 62us/sample - loss: 0.6488 - accuracy: 0.7531 - val_loss: 0.6356 - val_accuracy: 0.7606\n",
      "Epoch 22/50\n",
      "48000/48000 [==============================] - 3s 62us/sample - loss: 0.6355 - accuracy: 0.7574 - val_loss: 0.6214 - val_accuracy: 0.7639\n",
      "Epoch 23/50\n",
      "48000/48000 [==============================] - 3s 62us/sample - loss: 0.6241 - accuracy: 0.7587 - val_loss: 0.6212 - val_accuracy: 0.7616\n",
      "Epoch 24/50\n",
      "48000/48000 [==============================] - 3s 63us/sample - loss: 0.6146 - accuracy: 0.7612 - val_loss: 0.6050 - val_accuracy: 0.7643\n",
      "Epoch 25/50\n",
      "48000/48000 [==============================] - 3s 63us/sample - loss: 0.6041 - accuracy: 0.7663 - val_loss: 0.6007 - val_accuracy: 0.7648\n",
      "Epoch 26/50\n",
      "48000/48000 [==============================] - 3s 63us/sample - loss: 0.5962 - accuracy: 0.7665 - val_loss: 0.5876 - val_accuracy: 0.7707\n",
      "Epoch 27/50\n",
      "48000/48000 [==============================] - 3s 64us/sample - loss: 0.5882 - accuracy: 0.7696 - val_loss: 0.5845 - val_accuracy: 0.7722\n",
      "Epoch 28/50\n",
      "48000/48000 [==============================] - 3s 64us/sample - loss: 0.5810 - accuracy: 0.7716 - val_loss: 0.5716 - val_accuracy: 0.7767\n",
      "Epoch 29/50\n",
      "48000/48000 [==============================] - 3s 62us/sample - loss: 0.5734 - accuracy: 0.7754 - val_loss: 0.5714 - val_accuracy: 0.7786\n",
      "Epoch 30/50\n",
      "48000/48000 [==============================] - 3s 64us/sample - loss: 0.5654 - accuracy: 0.7797 - val_loss: 0.5591 - val_accuracy: 0.7819\n",
      "Epoch 31/50\n",
      "48000/48000 [==============================] - 3s 64us/sample - loss: 0.5599 - accuracy: 0.7823 - val_loss: 0.5542 - val_accuracy: 0.7846\n",
      "Epoch 32/50\n",
      "48000/48000 [==============================] - 3s 63us/sample - loss: 0.5527 - accuracy: 0.7850 - val_loss: 0.5464 - val_accuracy: 0.7884\n",
      "Epoch 33/50\n",
      "48000/48000 [==============================] - 3s 62us/sample - loss: 0.5469 - accuracy: 0.7891 - val_loss: 0.5591 - val_accuracy: 0.7862\n",
      "Epoch 34/50\n",
      "48000/48000 [==============================] - 3s 63us/sample - loss: 0.5410 - accuracy: 0.7934 - val_loss: 0.5378 - val_accuracy: 0.7930\n",
      "Epoch 35/50\n",
      "48000/48000 [==============================] - 3s 62us/sample - loss: 0.5341 - accuracy: 0.7984 - val_loss: 0.5303 - val_accuracy: 0.8012\n",
      "Epoch 36/50\n",
      "48000/48000 [==============================] - 3s 63us/sample - loss: 0.5267 - accuracy: 0.8003 - val_loss: 0.5245 - val_accuracy: 0.8043\n",
      "Epoch 37/50\n",
      "48000/48000 [==============================] - 3s 62us/sample - loss: 0.5204 - accuracy: 0.8036 - val_loss: 0.5220 - val_accuracy: 0.8038\n",
      "Epoch 38/50\n",
      "48000/48000 [==============================] - 3s 62us/sample - loss: 0.5136 - accuracy: 0.8088 - val_loss: 0.5078 - val_accuracy: 0.8113\n",
      "Epoch 39/50\n",
      "48000/48000 [==============================] - 3s 63us/sample - loss: 0.5088 - accuracy: 0.8111 - val_loss: 0.5107 - val_accuracy: 0.8112\n",
      "Epoch 40/50\n",
      "48000/48000 [==============================] - 3s 63us/sample - loss: 0.5011 - accuracy: 0.8145 - val_loss: 0.4984 - val_accuracy: 0.8169\n",
      "Epoch 41/50\n",
      "48000/48000 [==============================] - 3s 63us/sample - loss: 0.4961 - accuracy: 0.8166 - val_loss: 0.4948 - val_accuracy: 0.8169\n",
      "Epoch 42/50\n",
      "48000/48000 [==============================] - 3s 63us/sample - loss: 0.4897 - accuracy: 0.8192 - val_loss: 0.4870 - val_accuracy: 0.8213\n",
      "Epoch 43/50\n",
      "48000/48000 [==============================] - 3s 62us/sample - loss: 0.4838 - accuracy: 0.8224 - val_loss: 0.4806 - val_accuracy: 0.8205\n",
      "Epoch 44/50\n",
      "48000/48000 [==============================] - 3s 62us/sample - loss: 0.4791 - accuracy: 0.8236 - val_loss: 0.4743 - val_accuracy: 0.8270\n",
      "Epoch 45/50\n",
      "48000/48000 [==============================] - 3s 63us/sample - loss: 0.4732 - accuracy: 0.8257 - val_loss: 0.4728 - val_accuracy: 0.8291\n",
      "Epoch 46/50\n",
      "48000/48000 [==============================] - 3s 62us/sample - loss: 0.4672 - accuracy: 0.8280 - val_loss: 0.4691 - val_accuracy: 0.8282\n",
      "Epoch 47/50\n",
      "48000/48000 [==============================] - 3s 63us/sample - loss: 0.4619 - accuracy: 0.8297 - val_loss: 0.4600 - val_accuracy: 0.8300\n",
      "Epoch 48/50\n",
      "48000/48000 [==============================] - 3s 63us/sample - loss: 0.4574 - accuracy: 0.8309 - val_loss: 0.4585 - val_accuracy: 0.8317\n",
      "Epoch 49/50\n",
      "48000/48000 [==============================] - 3s 64us/sample - loss: 0.4534 - accuracy: 0.8332 - val_loss: 0.4524 - val_accuracy: 0.8346\n",
      "Epoch 50/50\n",
      "48000/48000 [==============================] - 3s 64us/sample - loss: 0.4474 - accuracy: 0.8357 - val_loss: 0.4501 - val_accuracy: 0.8383\n"
     ]
    }
   ],
   "source": [
    "history = model.fit(train_images, train_labels, epochs=EPOCHS, validation_split=VALIDATION_SPLIT)"
   ]
  },
  {
   "cell_type": "markdown",
   "metadata": {},
   "source": [
    "## 绘制梯度下降图"
   ]
  },
  {
   "cell_type": "code",
   "execution_count": 9,
   "metadata": {},
   "outputs": [
    {
     "data": {
      "image/png": "[encoded data removed]",
      "text/plain": [
       "<Figure size 576x360 with 1 Axes>"
      ]
     },
     "metadata": {
      "needs_background": "light"
     },
     "output_type": "display_data"
    }
   ],
   "source": [
    "def plot_learning_curves(history):\n",
    "    pd.DataFrame(history.history).plot(figsize=(8, 5))\n",
    "    plt.grid(True)\n",
    "    plt.gca().set_ylim(0, 2.5)\n",
    "    plt.show()\n",
    "    \n",
    "plot_learning_curves(history)"
   ]
  },
  {
   "cell_type": "markdown",
   "metadata": {},
   "source": [
    "## 测试训练好的模型"
   ]
  },
  {
   "cell_type": "code",
   "execution_count": 10,
   "metadata": {},
   "outputs": [
    {
     "name": "stdout",
     "output_type": "stream",
     "text": [
      "10000/10000 [==============================] - 0s 48us/sample - loss: 0.4720 - accuracy: 0.8222\n"
     ]
    },
    {
     "data": {
      "text/plain": [
       "[0.4720336236000061, 0.82220006]"
      ]
     },
     "execution_count": 10,
     "metadata": {},
     "output_type": "execute_result"
    }
   ],
   "source": [
    "model.evaluate(test_images, test_labels)"
   ]
  },
  {
   "cell_type": "markdown",
   "metadata": {},
   "source": [
    "## 保存模型 \n"
   ]
  },
  {
   "cell_type": "code",
   "execution_count": 11,
   "metadata": {},
   "outputs": [],
   "source": [
    "model.save('./save/save_model/model.h5')"
   ]
  },
  {
   "cell_type": "code",
   "execution_count": 12,
   "metadata": {},
   "outputs": [],
   "source": [
    "model.save_weights('./save/save_weights/model_weights.h5')"
   ]
  }
 ],
 "metadata": {
  "kernelspec": {
   "display_name": "Python 3",
   "language": "python",
   "name": "python3"
  },
  "language_info": {
   "codemirror_mode": {
    "name": "ipython",
    "version": 3
   },
   "file_extension": ".py",
   "mimetype": "text/x-python",
   "name": "python",
   "nbconvert_exporter": "python",
   "pygments_lexer": "ipython3",
   "version": "3.7.4"
  }
 },
 "nbformat": 4,
 "nbformat_minor": 2
}
