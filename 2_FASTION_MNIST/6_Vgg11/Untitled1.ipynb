{
 "cells": [
  {
   "cell_type": "markdown",
   "metadata": {},
   "source": [
    "# VGG\n",
    "VGG16相比AlexNet的一个改进是采用连续的几个3x3的卷积核代替AlexNet中的较大卷积核（11x11，7x7，5x5）。对于给定的感受野（与输出有关的输入图片的局部大小），采用堆积的小卷积核是优于采用大的卷积核，因为多层非线性层可以增加网络深度来保证学习更复杂的模式，而且代价还比较小（参数更少）。"
   ]
  },
  {
   "cell_type": "markdown",
   "metadata": {},
   "source": [
    "## 导入库"
   ]
  },
  {
   "cell_type": "code",
   "execution_count": 1,
   "metadata": {},
   "outputs": [],
   "source": [
    "import tensorflow as tf\n",
    "from tensorflow import keras\n",
    "import numpy as np"
   ]
  },
  {
   "cell_type": "markdown",
   "metadata": {},
   "source": [
    "## 参数"
   ]
  },
  {
   "cell_type": "code",
   "execution_count": 2,
   "metadata": {},
   "outputs": [],
   "source": [
    "BATCH_SIZE = 10000\n",
    "EPOCH = 5\n",
    "LR = 0.05"
   ]
  },
  {
   "cell_type": "markdown",
   "metadata": {},
   "source": [
    "## 加载数据并调整大小"
   ]
  },
  {
   "cell_type": "code",
   "execution_count": 3,
   "metadata": {},
   "outputs": [],
   "source": [
    "class DataLoader():\n",
    "    def __init__(self):\n",
    "        (self.train_images, self.train_labels), (self.test_images, self.test_labels) = keras.datasets.fashion_mnist.load_data()\n",
    "        self.train_images = np.expand_dims(self.train_images.astype(np.float32)/255.0, axis=-1)\n",
    "        self.test_images = np.expand_dims(self.test_images.astype(np.float32)/255.0, axis=-1)\n",
    "        self.train_labels = self.train_labels.astype(np.int32)\n",
    "        self.test_labels = self.test_labels.astype(np.int32)\n",
    "        self.num_train, self.num_test = self.train_images.shape[0], self.test_images.shape[0]\n",
    "        \n",
    "    def get_batch_train(self, batch_size):\n",
    "        index = np.random.randint(0, np.shape(self.train_images)[0], batch_size)\n",
    "        resized_images = tf.image.resize_with_pad(self.train_images[index], 224, 224,)\n",
    "        return resized_images.numpy(), self.train_labels[index]\n",
    "    \n",
    "    def get_batch_test(self, batch_size):\n",
    "        index = np.random.randint(0, np.shape(self.test_images)[0], batch_size)\n",
    "        resized_images = tf.image.resize_with_pad(self.test_images[index], 224, 224,)\n",
    "        return resized_images.numpy(), self.test_labels[index]"
   ]
  },
  {
   "cell_type": "code",
   "execution_count": 4,
   "metadata": {},
   "outputs": [],
   "source": [
    "dataLoader = DataLoader()\n",
    "x_batch, y_batch = dataLoader.get_batch_train(BATCH_SIZE)"
   ]
  },
  {
   "cell_type": "markdown",
   "metadata": {},
   "source": [
    "## vgg卷积层"
   ]
  },
  {
   "cell_type": "code",
   "execution_count": 5,
   "metadata": {},
   "outputs": [],
   "source": [
    "def vgg_block(num_convs, num_channels):\n",
    "    blk = keras.models.Sequential()\n",
    "    for _ in range(num_convs):\n",
    "        blk.add(keras.layers.Conv2D(num_channels,kernel_size=3,padding='same',activation='relu'))\n",
    "    blk.add(keras.layers.MaxPool2D(pool_size=2, strides=2))\n",
    "    return blk"
   ]
  },
  {
   "cell_type": "markdown",
   "metadata": {},
   "source": [
    "## 定义大模型"
   ]
  },
  {
   "cell_type": "code",
   "execution_count": 6,
   "metadata": {},
   "outputs": [],
   "source": [
    "def vgg(conv_arch):\n",
    "    model = keras.models.Sequential()\n",
    "    for (num_convs, num_channels) in conv_arch:\n",
    "        model.add(vgg_block(num_convs, num_channels))\n",
    "    model.add(keras.models.Sequential([\n",
    "        keras.layers.Flatten(),\n",
    "        keras.layers.Dense(4096, activation='relu'),\n",
    "        keras.layers.Dropout(0.5),\n",
    "        keras.layers.Dense(4096, activation='relu'),\n",
    "        keras.layers.Dropout(0.5),\n",
    "        keras.layers.Dense(10, activation='sigmoid')\n",
    "    ]))\n",
    "    return model"
   ]
  },
  {
   "cell_type": "code",
   "execution_count": 7,
   "metadata": {},
   "outputs": [],
   "source": [
    "CONV_ARCH = ((1, 64), (1, 128), (2, 256), (2, 512), (2, 512))\n",
    "model = vgg(CONV_ARCH)"
   ]
  },
  {
   "cell_type": "markdown",
   "metadata": {},
   "source": [
    "## 定义优化器及损失"
   ]
  },
  {
   "cell_type": "code",
   "execution_count": 8,
   "metadata": {},
   "outputs": [],
   "source": [
    "optimizer = keras.optimizers.SGD(learning_rate=LR)\n",
    "model.compile(optimizer=optimizer, loss='sparse_categorical_crossentropy', metrics=['accuracy'])"
   ]
  },
  {
   "cell_type": "markdown",
   "metadata": {},
   "source": [
    "## 开始训练"
   ]
  },
  {
   "cell_type": "code",
   "execution_count": 9,
   "metadata": {
    "scrolled": false
   },
   "outputs": [
    {
     "name": "stdout",
     "output_type": "stream",
     "text": [
      "Train on 10000 samples\n",
      "10000/10000 [==============================] - 95s 10ms/sample - loss: 1.6625 - accuracy: 0.3339\n",
      "Train on 10000 samples\n",
      "10000/10000 [==============================] - 90s 9ms/sample - loss: 0.7574 - accuracy: 0.7064\n",
      "Train on 10000 samples\n",
      "10000/10000 [==============================] - 90s 9ms/sample - loss: 0.5580 - accuracy: 0.7922\n",
      "Train on 10000 samples\n",
      "10000/10000 [==============================] - 90s 9ms/sample - loss: 0.4530 - accuracy: 0.8350\n",
      "Train on 10000 samples\n",
      "10000/10000 [==============================] - 90s 9ms/sample - loss: 0.3969 - accuracy: 0.8518\n",
      "Train on 10000 samples\n",
      "10000/10000 [==============================] - 90s 9ms/sample - loss: 0.3593 - accuracy: 0.8713\n",
      "Train on 10000 samples\n",
      "10000/10000 [==============================] - 90s 9ms/sample - loss: 0.3350 - accuracy: 0.8743\n",
      "Train on 10000 samples\n",
      "10000/10000 [==============================] - 90s 9ms/sample - loss: 0.3145 - accuracy: 0.8835\n",
      "Train on 10000 samples\n",
      "10000/10000 [==============================] - 89s 9ms/sample - loss: 0.3038 - accuracy: 0.8893\n",
      "Train on 10000 samples\n",
      "10000/10000 [==============================] - 90s 9ms/sample - loss: 0.2855 - accuracy: 0.8936\n",
      "Train on 10000 samples\n",
      "10000/10000 [==============================] - 90s 9ms/sample - loss: 0.2790 - accuracy: 0.8996\n",
      "Train on 10000 samples\n",
      "10000/10000 [==============================] - 90s 9ms/sample - loss: 0.2658 - accuracy: 0.9026\n",
      "Train on 10000 samples\n",
      "10000/10000 [==============================] - 90s 9ms/sample - loss: 0.2684 - accuracy: 0.9036\n",
      "Train on 10000 samples\n",
      "10000/10000 [==============================] - 90s 9ms/sample - loss: 0.2524 - accuracy: 0.9044\n",
      "Train on 10000 samples\n",
      "10000/10000 [==============================] - 90s 9ms/sample - loss: 0.2379 - accuracy: 0.9117\n",
      "Train on 10000 samples\n",
      "10000/10000 [==============================] - 91s 9ms/sample - loss: 0.2286 - accuracy: 0.9178\n",
      "Train on 10000 samples\n",
      "10000/10000 [==============================] - 92s 9ms/sample - loss: 0.2215 - accuracy: 0.9202\n",
      "Train on 10000 samples\n",
      "10000/10000 [==============================] - 92s 9ms/sample - loss: 0.2167 - accuracy: 0.9233\n",
      "Train on 10000 samples\n",
      "10000/10000 [==============================] - 90s 9ms/sample - loss: 0.2164 - accuracy: 0.9233\n",
      "Train on 10000 samples\n",
      "10000/10000 [==============================] - 90s 9ms/sample - loss: 0.2088 - accuracy: 0.9240\n",
      "Train on 10000 samples\n",
      "10000/10000 [==============================] - 90s 9ms/sample - loss: 0.2092 - accuracy: 0.9238\n",
      "Train on 10000 samples\n",
      "10000/10000 [==============================] - 90s 9ms/sample - loss: 0.1989 - accuracy: 0.9287\n",
      "Train on 10000 samples\n",
      "10000/10000 [==============================] - 89s 9ms/sample - loss: 0.1864 - accuracy: 0.9313\n",
      "Train on 10000 samples\n",
      "10000/10000 [==============================] - 89s 9ms/sample - loss: 0.1798 - accuracy: 0.9345\n",
      "Train on 10000 samples\n",
      "10000/10000 [==============================] - 92s 9ms/sample - loss: 0.1816 - accuracy: 0.9347\n",
      "Train on 10000 samples\n",
      "10000/10000 [==============================] - 89s 9ms/sample - loss: 0.1742 - accuracy: 0.9351\n",
      "Train on 10000 samples\n",
      "10000/10000 [==============================] - 90s 9ms/sample - loss: 0.1634 - accuracy: 0.9408\n",
      "Train on 10000 samples\n",
      "10000/10000 [==============================] - 89s 9ms/sample - loss: 0.1657 - accuracy: 0.9426\n",
      "Train on 10000 samples\n",
      "10000/10000 [==============================] - 89s 9ms/sample - loss: 0.1600 - accuracy: 0.9406\n",
      "Train on 10000 samples\n",
      "10000/10000 [==============================] - 90s 9ms/sample - loss: 0.1564 - accuracy: 0.9404\n"
     ]
    }
   ],
   "source": [
    "num_iter = dataLoader.num_train//BATCH_SIZE\n",
    "for e in range(EPOCH):\n",
    "    for _ in range(num_iter):\n",
    "        x_batch, y_batch = dataLoader.get_batch_train(BATCH_SIZE)\n",
    "        model.fit(x_batch, y_batch)"
   ]
  },
  {
   "cell_type": "markdown",
   "metadata": {},
   "source": [
    "## 测试"
   ]
  },
  {
   "cell_type": "code",
   "execution_count": 10,
   "metadata": {},
   "outputs": [
    {
     "name": "stdout",
     "output_type": "stream",
     "text": [
      "2000/2000 - 6s - loss: 0.2316 - accuracy: 0.9185\n"
     ]
    },
    {
     "data": {
      "text/plain": [
       "[0.23162574183940887, 0.91850007]"
      ]
     },
     "execution_count": 10,
     "metadata": {},
     "output_type": "execute_result"
    }
   ],
   "source": [
    "x_test, y_test = dataLoader.get_batch_test(2000)\n",
    "model.evaluate(x_test, y_test)"
   ]
  },
  {
   "cell_type": "code",
   "execution_count": null,
   "metadata": {},
   "outputs": [],
   "source": []
  }
 ],
 "metadata": {
  "kernelspec": {
   "display_name": "Python 3",
   "language": "python",
   "name": "python3"
  },
  "language_info": {
   "codemirror_mode": {
    "name": "ipython",
    "version": 3
   },
   "file_extension": ".py",
   "mimetype": "text/x-python",
   "name": "python",
   "nbconvert_exporter": "python",
   "pygments_lexer": "ipython3",
   "version": "3.7.4"
  }
 },
 "nbformat": 4,
 "nbformat_minor": 2
}
