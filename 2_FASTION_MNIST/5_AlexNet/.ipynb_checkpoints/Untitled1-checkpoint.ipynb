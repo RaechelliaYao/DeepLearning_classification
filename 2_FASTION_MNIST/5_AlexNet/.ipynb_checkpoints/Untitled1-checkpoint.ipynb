{
 "cells": [
  {
   "cell_type": "markdown",
   "metadata": {},
   "source": [
    "## 导入库"
   ]
  },
  {
   "cell_type": "code",
   "execution_count": 1,
   "metadata": {},
   "outputs": [],
   "source": [
    "import tensorflow as tf\n",
    "from tensorflow import keras\n",
    "import numpy as np"
   ]
  },
  {
   "cell_type": "markdown",
   "metadata": {},
   "source": [
    "## 参数"
   ]
  },
  {
   "cell_type": "code",
   "execution_count": 2,
   "metadata": {},
   "outputs": [],
   "source": [
    "BATCH_SIZE = 10000\n",
    "IMAGE_SIZE = 224\n",
    "EPOCH = 5\n",
    "LR = 0.01"
   ]
  },
  {
   "cell_type": "markdown",
   "metadata": {},
   "source": [
    "## 导入数据并调整大小"
   ]
  },
  {
   "cell_type": "code",
   "execution_count": 3,
   "metadata": {},
   "outputs": [],
   "source": [
    "(train_images, train_labels), (test_images, test_labels) = keras.datasets.fashion_mnist.load_data()"
   ]
  },
  {
   "cell_type": "code",
   "execution_count": 4,
   "metadata": {},
   "outputs": [],
   "source": [
    "train_images = np.expand_dims(train_images.astype(np.float32)/255.0, axis=-1)\n",
    "test_images = np.expand_dims(test_images.astype(np.float32)/255.0, axis=-1)\n",
    "train_labels = train_labels.astype(np.int32)\n",
    "test_labels = test_labels.astype(np.int32)"
   ]
  },
  {
   "cell_type": "code",
   "execution_count": 5,
   "metadata": {},
   "outputs": [],
   "source": [
    "class DataLoader():\n",
    "    def __init__(self):\n",
    "        (self.train_images, self.train_labels), (self.test_images, self.test_labels) = keras.datasets.fashion_mnist.load_data()\n",
    "        self.train_images = np.expand_dims(self.train_images.astype(np.float32)/255.0, axis=-1)\n",
    "        self.test_images = np.expand_dims(self.test_images.astype(np.float32)/255.0, axis=-1)\n",
    "        self.train_labels = self.train_labels.astype(np.int32)\n",
    "        self.test_labels = self.test_labels.astype(np.int32)\n",
    "        self.num_train, self.num_test = self.train_images.shape[0], self.test_images.shape[0]\n",
    "        \n",
    "    def get_batch_train(self, batch_size):\n",
    "        index = np.random.randint(0, np.shape(self.train_images)[0], batch_size)\n",
    "        resized_images = tf.image.resize_with_pad(self.train_images[index], IMAGE_SIZE, IMAGE_SIZE,)\n",
    "        return resized_images.numpy(), self.train_labels[index]\n",
    "    \n",
    "    def get_batch_test(self, batch_size):\n",
    "        index = np.random.randint(0, np.shape(self.test_images)[0], batch_size)\n",
    "        resized_images = tf.image.resize_with_pad(self.test_images[index], IMAGE_SIZE, IMAGE_SIZE,)\n",
    "        return resized_images.numpy(), self.test_labels[index]"
   ]
  },
  {
   "cell_type": "code",
   "execution_count": 6,
   "metadata": {},
   "outputs": [],
   "source": [
    "dataLoader = DataLoader()\n",
    "x_batch, y_batch = dataLoader.get_batch_train(BATCH_SIZE)"
   ]
  },
  {
   "cell_type": "markdown",
   "metadata": {},
   "source": [
    "## 定义模型"
   ]
  },
  {
   "cell_type": "code",
   "execution_count": 7,
   "metadata": {},
   "outputs": [],
   "source": [
    "model = keras.models.Sequential([\n",
    "    keras.layers.Conv2D(filters=96, kernel_size=11, strides=4, activation='relu'),\n",
    "    keras.layers.MaxPool2D(pool_size=3, strides=2),\n",
    "    \n",
    "    keras.layers.Conv2D(filters=256, kernel_size=5, padding='same', activation='relu'),\n",
    "    keras.layers.MaxPool2D(pool_size=3, strides=2),\n",
    "    \n",
    "    keras.layers.Conv2D(filters=384, kernel_size=3, padding='same', activation='relu'),\n",
    "    keras.layers.Conv2D(filters=384, kernel_size=3, padding='same', activation='relu'),\n",
    "    keras.layers.Conv2D(filters=256, kernel_size=3, padding='same', activation='relu'),\n",
    "    keras.layers.MaxPool2D(pool_size=3, strides=2),\n",
    "    \n",
    "    keras.layers.Flatten(),\n",
    "    keras.layers.Dense(4096, activation='relu'),\n",
    "    keras.layers.Dropout(0.5),\n",
    "    keras.layers.Dense(4096, activation='relu'),\n",
    "    keras.layers.Dropout(0.5),\n",
    "    keras.layers.Dense(10, activation='sigmoid')\n",
    "])"
   ]
  },
  {
   "cell_type": "markdown",
   "metadata": {},
   "source": [
    "## 定义损失和优化"
   ]
  },
  {
   "cell_type": "code",
   "execution_count": 8,
   "metadata": {},
   "outputs": [],
   "source": [
    "optimizer = keras.optimizers.SGD(learning_rate=LR,)\n",
    "model.compile(optimizer=optimizer, loss='sparse_categorical_crossentropy', metrics=['accuracy'])"
   ]
  },
  {
   "cell_type": "markdown",
   "metadata": {},
   "source": [
    "## 开始训练"
   ]
  },
  {
   "cell_type": "code",
   "execution_count": null,
   "metadata": {
    "scrolled": true
   },
   "outputs": [
    {
     "name": "stdout",
     "output_type": "stream",
     "text": [
      "Train on 10000 samples\n",
      "10000/10000 [==============================] - 16s 2ms/sample - loss: 2.0769 - accuracy: 0.2196\n",
      "Train on 10000 samples\n",
      "10000/10000 [==============================] - 13s 1ms/sample - loss: 1.1046 - accuracy: 0.5655\n",
      "Train on 10000 samples\n",
      "10000/10000 [==============================] - 13s 1ms/sample - loss: 0.8101 - accuracy: 0.6927\n",
      "Train on 10000 samples\n",
      "10000/10000 [==============================] - 13s 1ms/sample - loss: 0.7087 - accuracy: 0.7300\n",
      "Train on 10000 samples\n",
      " 8672/10000 [=========================>....] - ETA: 1s - loss: 0.6330 - accuracy: 0.7680"
     ]
    }
   ],
   "source": [
    "num_iter = dataLoader.num_train//BATCH_SIZE\n",
    "for e in range(EPOCH):\n",
    "    for n in range(num_iter):\n",
    "        x_batch, y_batch = dataLoader.get_batch_train(BATCH_SIZE)\n",
    "        model.fit(x_batch, y_batch)"
   ]
  },
  {
   "cell_type": "markdown",
   "metadata": {},
   "source": [
    "## 测试"
   ]
  },
  {
   "cell_type": "code",
   "execution_count": null,
   "metadata": {},
   "outputs": [],
   "source": [
    "x_test, y_test = dataLoader.get_batch_test(2000)\n",
    "model.evaluate(x_test, y_test, verbose=2)"
   ]
  },
  {
   "cell_type": "code",
   "execution_count": null,
   "metadata": {},
   "outputs": [],
   "source": []
  }
 ],
 "metadata": {
  "kernelspec": {
   "display_name": "Python 3",
   "language": "python",
   "name": "python3"
  },
  "language_info": {
   "codemirror_mode": {
    "name": "ipython",
    "version": 3
   },
   "file_extension": ".py",
   "mimetype": "text/x-python",
   "name": "python",
   "nbconvert_exporter": "python",
   "pygments_lexer": "ipython3",
   "version": "3.7.4"
  }
 },
 "nbformat": 4,
 "nbformat_minor": 2
}
