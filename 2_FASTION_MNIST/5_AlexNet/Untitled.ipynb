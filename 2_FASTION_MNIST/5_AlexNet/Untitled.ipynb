{
 "cells": [
  {
   "cell_type": "markdown",
   "metadata": {},
   "source": [
    "# AlexNet\n",
    "它首次证明了学习到的特征可以超越手工设计的特征，从而一举打破计算机视觉研究的前状。"
   ]
  },
  {
   "cell_type": "markdown",
   "metadata": {},
   "source": [
    "## 导入库"
   ]
  },
  {
   "cell_type": "code",
   "execution_count": 1,
   "metadata": {},
   "outputs": [],
   "source": [
    "import tensorflow as tf\n",
    "from tensorflow import keras\n",
    "import pandas as pd\n",
    "import matplotlib.pyplot as plt\n",
    "%matplotlib inline"
   ]
  },
  {
   "cell_type": "markdown",
   "metadata": {},
   "source": [
    "## 超参"
   ]
  },
  {
   "cell_type": "code",
   "execution_count": 2,
   "metadata": {},
   "outputs": [],
   "source": [
    "EPOCHS = 50\n",
    "BATCH_SIZE = 256\n",
    "LR = 0.1\n",
    "VERBOSE = 1\n",
    "IMAGE_SIZE = 224"
   ]
  },
  {
   "cell_type": "markdown",
   "metadata": {},
   "source": [
    "## 导入数据集"
   ]
  },
  {
   "cell_type": "code",
   "execution_count": 3,
   "metadata": {},
   "outputs": [],
   "source": [
    "(train_images, train_labels), (test_images, test_labels) = keras.datasets.fashion_mnist.load_data()"
   ]
  },
  {
   "cell_type": "code",
   "execution_count": 4,
   "metadata": {},
   "outputs": [
    {
     "data": {
      "text/plain": [
       "(60000, 28, 28)"
      ]
     },
     "execution_count": 4,
     "metadata": {},
     "output_type": "execute_result"
    }
   ],
   "source": [
    "train_images.shape"
   ]
  },
  {
   "cell_type": "code",
   "execution_count": 5,
   "metadata": {},
   "outputs": [],
   "source": [
    "train_images = tf.reshape(train_images, (train_images.shape[0], train_images.shape[1], train_images.shape[2], -1))\n",
    "test_images = tf.reshape(test_images, (test_images.shape[0], test_images.shape[1], test_images.shape[2], -1))"
   ]
  },
  {
   "cell_type": "code",
   "execution_count": 6,
   "metadata": {},
   "outputs": [],
   "source": [
    "train_images = tf.image.resize_with_pad(train_images, IMAGE_SIZE, IMAGE_SIZE)\n",
    "test_images = tf.image.resize_with_pad(test_images, IMAGE_SIZE, IMAGE_SIZE)"
   ]
  },
  {
   "cell_type": "code",
   "execution_count": 7,
   "metadata": {},
   "outputs": [
    {
     "data": {
      "text/plain": [
       "TensorShape([10000, 224, 224, 1])"
      ]
     },
     "execution_count": 7,
     "metadata": {},
     "output_type": "execute_result"
    }
   ],
   "source": [
    "train_images.shape"
   ]
  },
  {
   "cell_type": "markdown",
   "metadata": {},
   "source": [
    "## 定义模型"
   ]
  },
  {
   "cell_type": "code",
   "execution_count": 9,
   "metadata": {},
   "outputs": [],
   "source": [
    "model = keras.models.Sequential([\n",
    "    keras.layers.Conv2D(filters=96, kernel_size=11, strides=4, activation='relu', input_shape=(IMAGE_SIZE, IMAGE_SIZE, 1)),\n",
    "    keras.layers.MaxPool2D(pool_size=3, strides=2),\n",
    "    \n",
    "    keras.layers.Conv2D(filters=256, kernel_size=5, padding='same', activation='relu'),\n",
    "    keras.layers.MaxPool2D(pool_size=3, strides=2),\n",
    "    \n",
    "    keras.layers.Conv2D(filters=384, kernel_size=3, padding='same', activation='relu'),\n",
    "    keras.layers.Conv2D(filters=384, kernel_size=3, padding='same', activation='relu'),\n",
    "    keras.layers.Conv2D(filters=256, kernel_size=3, padding='same', activation='relu'),\n",
    "    keras.layers.MaxPool2D(pool_size=3, strides=2),\n",
    "    \n",
    "    keras.layers.Flatten(),\n",
    "    keras.layers.Dense(4096, activation='relu'),\n",
    "    keras.layers.Dropout(0.5),\n",
    "    keras.layers.Dense(4096, activation='relu'),\n",
    "    keras.layers.Dropout(0.5),\n",
    "    keras.layers.Dense(10, activation='sigmoid')\n",
    "])"
   ]
  },
  {
   "cell_type": "markdown",
   "metadata": {},
   "source": [
    "## 设置优化器和损失函数"
   ]
  },
  {
   "cell_type": "code",
   "execution_count": 10,
   "metadata": {},
   "outputs": [],
   "source": [
    "optimizer = keras.optimizers.SGD(learning_rate=0.01, momentum=0.0, nesterov=False)\n",
    "model.compile(optimizer=optimizer, loss='sparse_categorical_crossentropy', metrics=['accuracy'])"
   ]
  },
  {
   "cell_type": "markdown",
   "metadata": {},
   "source": [
    "## 开始训练"
   ]
  },
  {
   "cell_type": "code",
   "execution_count": 11,
   "metadata": {},
   "outputs": [
    {
     "name": "stdout",
     "output_type": "stream",
     "text": [
      "Train on 10000 samples\n",
      "Epoch 1/50\n",
      "10000/10000 [==============================] - 13s 1ms/sample - loss: 2.3355 - accuracy: 0.1000\n",
      "Epoch 2/50\n",
      "10000/10000 [==============================] - 9s 852us/sample - loss: 2.2443 - accuracy: 0.1216\n",
      "Epoch 3/50\n",
      "10000/10000 [==============================] - 9s 856us/sample - loss: 1.9946 - accuracy: 0.1687\n",
      "Epoch 4/50\n",
      "10000/10000 [==============================] - 9s 865us/sample - loss: 1.4947 - accuracy: 0.3838\n",
      "Epoch 5/50\n",
      "10000/10000 [==============================] - 9s 872us/sample - loss: 1.1641 - accuracy: 0.5316\n",
      "Epoch 6/50\n",
      "10000/10000 [==============================] - 9s 860us/sample - loss: 1.3099 - accuracy: 0.5528\n",
      "Epoch 7/50\n",
      "10000/10000 [==============================] - 9s 856us/sample - loss: 1.3358 - accuracy: 0.5728\n",
      "Epoch 8/50\n",
      "10000/10000 [==============================] - 9s 855us/sample - loss: 1.1184 - accuracy: 0.6127\n",
      "Epoch 9/50\n",
      "10000/10000 [==============================] - 9s 855us/sample - loss: 0.7815 - accuracy: 0.7125\n",
      "Epoch 10/50\n",
      "10000/10000 [==============================] - 9s 854us/sample - loss: 0.6784 - accuracy: 0.7481\n",
      "Epoch 11/50\n",
      "10000/10000 [==============================] - 9s 855us/sample - loss: 0.6274 - accuracy: 0.7686\n",
      "Epoch 12/50\n",
      "10000/10000 [==============================] - 9s 855us/sample - loss: 0.6237 - accuracy: 0.7685\n",
      "Epoch 13/50\n",
      "10000/10000 [==============================] - 9s 858us/sample - loss: 0.5498 - accuracy: 0.7930\n",
      "Epoch 14/50\n",
      "10000/10000 [==============================] - 9s 857us/sample - loss: 0.5357 - accuracy: 0.8048\n",
      "Epoch 15/50\n",
      "10000/10000 [==============================] - 9s 859us/sample - loss: 0.4965 - accuracy: 0.8171\n",
      "Epoch 16/50\n",
      "10000/10000 [==============================] - 9s 856us/sample - loss: 0.4648 - accuracy: 0.8285\n",
      "Epoch 17/50\n",
      "10000/10000 [==============================] - 9s 856us/sample - loss: 0.4556 - accuracy: 0.8345\n",
      "Epoch 18/50\n",
      "10000/10000 [==============================] - 9s 856us/sample - loss: 0.4440 - accuracy: 0.8389\n",
      "Epoch 19/50\n",
      "10000/10000 [==============================] - 9s 856us/sample - loss: 0.4174 - accuracy: 0.8445\n",
      "Epoch 20/50\n",
      "10000/10000 [==============================] - 9s 856us/sample - loss: 0.4545 - accuracy: 0.8387\n",
      "Epoch 21/50\n",
      "10000/10000 [==============================] - 9s 857us/sample - loss: 0.4155 - accuracy: 0.8480\n",
      "Epoch 22/50\n",
      "10000/10000 [==============================] - 9s 856us/sample - loss: 0.3764 - accuracy: 0.8607\n",
      "Epoch 23/50\n",
      "10000/10000 [==============================] - 9s 856us/sample - loss: 0.3988 - accuracy: 0.8555\n",
      "Epoch 24/50\n",
      "10000/10000 [==============================] - 9s 856us/sample - loss: 0.3858 - accuracy: 0.8620\n",
      "Epoch 25/50\n",
      "10000/10000 [==============================] - 9s 856us/sample - loss: 0.3507 - accuracy: 0.8703\n",
      "Epoch 26/50\n",
      "10000/10000 [==============================] - 9s 867us/sample - loss: 0.3402 - accuracy: 0.8747\n",
      "Epoch 27/50\n",
      "10000/10000 [==============================] - 9s 857us/sample - loss: 0.3376 - accuracy: 0.8764\n",
      "Epoch 28/50\n",
      "10000/10000 [==============================] - 9s 857us/sample - loss: 0.3187 - accuracy: 0.8804\n",
      "Epoch 29/50\n",
      "10000/10000 [==============================] - 9s 859us/sample - loss: 0.3107 - accuracy: 0.8856\n",
      "Epoch 30/50\n",
      "10000/10000 [==============================] - 9s 856us/sample - loss: 0.3039 - accuracy: 0.8859\n",
      "Epoch 31/50\n",
      "10000/10000 [==============================] - 9s 856us/sample - loss: 0.2882 - accuracy: 0.8934\n",
      "Epoch 32/50\n",
      "10000/10000 [==============================] - 9s 857us/sample - loss: 0.2784 - accuracy: 0.8933\n",
      "Epoch 33/50\n",
      "10000/10000 [==============================] - 9s 858us/sample - loss: 0.2849 - accuracy: 0.8939\n",
      "Epoch 34/50\n",
      "10000/10000 [==============================] - 9s 857us/sample - loss: 0.2751 - accuracy: 0.8957\n",
      "Epoch 35/50\n",
      "10000/10000 [==============================] - 9s 856us/sample - loss: 0.2751 - accuracy: 0.8974\n",
      "Epoch 36/50\n",
      "10000/10000 [==============================] - 9s 866us/sample - loss: 0.2816 - accuracy: 0.8934\n",
      "Epoch 37/50\n",
      "10000/10000 [==============================] - 9s 857us/sample - loss: 0.2938 - accuracy: 0.8915\n",
      "Epoch 38/50\n",
      "10000/10000 [==============================] - 9s 856us/sample - loss: 0.2652 - accuracy: 0.9010\n",
      "Epoch 39/50\n",
      "10000/10000 [==============================] - 9s 860us/sample - loss: 0.2456 - accuracy: 0.9049\n",
      "Epoch 40/50\n",
      "10000/10000 [==============================] - 9s 856us/sample - loss: 0.2262 - accuracy: 0.9159\n",
      "Epoch 41/50\n",
      "10000/10000 [==============================] - 9s 860us/sample - loss: 0.2342 - accuracy: 0.9134\n",
      "Epoch 42/50\n",
      "10000/10000 [==============================] - 9s 858us/sample - loss: 0.2499 - accuracy: 0.9096\n",
      "Epoch 43/50\n",
      "10000/10000 [==============================] - 9s 859us/sample - loss: 0.2170 - accuracy: 0.9171\n",
      "Epoch 44/50\n",
      "10000/10000 [==============================] - 9s 860us/sample - loss: 0.2068 - accuracy: 0.9209\n",
      "Epoch 45/50\n",
      "10000/10000 [==============================] - 9s 859us/sample - loss: 0.2135 - accuracy: 0.9177\n",
      "Epoch 46/50\n",
      "10000/10000 [==============================] - 9s 859us/sample - loss: 0.2181 - accuracy: 0.9163\n",
      "Epoch 47/50\n",
      "10000/10000 [==============================] - 9s 858us/sample - loss: 0.2137 - accuracy: 0.9202\n",
      "Epoch 48/50\n",
      "10000/10000 [==============================] - 9s 858us/sample - loss: 0.1984 - accuracy: 0.9244\n",
      "Epoch 49/50\n",
      "10000/10000 [==============================] - 9s 858us/sample - loss: 0.3473 - accuracy: 0.8748\n",
      "Epoch 50/50\n",
      "10000/10000 [==============================] - 9s 851us/sample - loss: 0.2397 - accuracy: 0.9108\n"
     ]
    }
   ],
   "source": [
    "history = model.fit(train_images, train_labels, batch_size=BATCH_SIZE, epochs=EPOCHS, verbose=VERBOSE)"
   ]
  },
  {
   "cell_type": "markdown",
   "metadata": {},
   "source": [
    "## 绘制梯度下降图"
   ]
  },
  {
   "cell_type": "code",
   "execution_count": 16,
   "metadata": {
    "scrolled": true
   },
   "outputs": [
    {
     "data": {
      "image/png": "[encoded data removed]",
      "text/plain": [
       "<Figure size 576x360 with 1 Axes>"
      ]
     },
     "metadata": {
      "needs_background": "light"
     },
     "output_type": "display_data"
    }
   ],
   "source": [
    "def plot_learning_curves(history):\n",
    "    pd.DataFrame(history.history).plot(figsize=(8, 5))\n",
    "    plt.grid(True)\n",
    "    plt.gca().set_ylim(0, 2.5)\n",
    "    plt.show()\n",
    "    \n",
    "plot_learning_curves(history)"
   ]
  },
  {
   "cell_type": "markdown",
   "metadata": {},
   "source": [
    "## 测试训练好的模型"
   ]
  },
  {
   "cell_type": "code",
   "execution_count": 13,
   "metadata": {},
   "outputs": [
    {
     "name": "stdout",
     "output_type": "stream",
     "text": [
      "3000/3000 [==============================] - 2s 624us/sample - loss: 0.5338 - accuracy: 0.8190\n"
     ]
    },
    {
     "data": {
      "text/plain": [
       "[0.5337661986351013, 0.819]"
      ]
     },
     "execution_count": 13,
     "metadata": {},
     "output_type": "execute_result"
    }
   ],
   "source": [
    "model.evaluate(test_images, test_labels)"
   ]
  },
  {
   "cell_type": "markdown",
   "metadata": {},
   "source": [
    "## 保存模型 "
   ]
  },
  {
   "cell_type": "code",
   "execution_count": 14,
   "metadata": {},
   "outputs": [],
   "source": [
    "model.save('./save/save_model/model.h5')"
   ]
  },
  {
   "cell_type": "code",
   "execution_count": 15,
   "metadata": {},
   "outputs": [],
   "source": [
    "model.save_weights('./save/save_weights/model_weights.h5')"
   ]
  },
  {
   "cell_type": "code",
   "execution_count": null,
   "metadata": {},
   "outputs": [],
   "source": []
  }
 ],
 "metadata": {
  "kernelspec": {
   "display_name": "Python 3",
   "language": "python",
   "name": "python3"
  },
  "language_info": {
   "codemirror_mode": {
    "name": "ipython",
    "version": 3
   },
   "file_extension": ".py",
   "mimetype": "text/x-python",
   "name": "python",
   "nbconvert_exporter": "python",
   "pygments_lexer": "ipython3",
   "version": "3.7.4"
  }
 },
 "nbformat": 4,
 "nbformat_minor": 2
}
