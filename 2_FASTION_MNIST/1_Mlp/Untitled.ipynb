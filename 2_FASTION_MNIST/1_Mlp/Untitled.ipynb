{
 "cells": [
  {
   "cell_type": "markdown",
   "metadata": {},
   "source": [
    "# 多层感知器-MLP\n",
    "多层感知机（MLP，Multilayer Perceptron）也叫人工神经网络（ANN，Artificial Neural Network），除了输入输出层，它中间可以有多个隐层，最简单的MLP只含一个隐层，即三层的结构。"
   ]
  },
  {
   "cell_type": "markdown",
   "metadata": {},
   "source": [
    "## 导入库"
   ]
  },
  {
   "cell_type": "code",
   "execution_count": 1,
   "metadata": {},
   "outputs": [],
   "source": [
    "import tensorflow as tf\n",
    "from tensorflow import keras\n",
    "import pandas as pd\n",
    "import matplotlib.pyplot as plt\n",
    "%matplotlib inline"
   ]
  },
  {
   "cell_type": "markdown",
   "metadata": {},
   "source": [
    "## 超参"
   ]
  },
  {
   "cell_type": "code",
   "execution_count": 2,
   "metadata": {},
   "outputs": [],
   "source": [
    "EPOCHS = 50\n",
    "BATCH_SIZE = 256\n",
    "LR = 0.1\n",
    "VERBOSE = 1"
   ]
  },
  {
   "cell_type": "markdown",
   "metadata": {},
   "source": [
    "## 导入数据集"
   ]
  },
  {
   "cell_type": "code",
   "execution_count": 3,
   "metadata": {},
   "outputs": [],
   "source": [
    "(train_images, train_labels), (test_images, test_labels) = keras.datasets.fashion_mnist.load_data()"
   ]
  },
  {
   "cell_type": "code",
   "execution_count": 4,
   "metadata": {},
   "outputs": [
    {
     "data": {
      "text/plain": [
       "(60000, 28, 28)"
      ]
     },
     "execution_count": 4,
     "metadata": {},
     "output_type": "execute_result"
    }
   ],
   "source": [
    "train_images.shape"
   ]
  },
  {
   "cell_type": "code",
   "execution_count": 5,
   "metadata": {},
   "outputs": [],
   "source": [
    "train_images = tf.reshape(train_images, (train_images.shape[0], train_images.shape[1]*train_images.shape[2]))\n",
    "test_images = tf.reshape(test_images, (test_images.shape[0], test_images.shape[1]*test_images.shape[2]))"
   ]
  },
  {
   "cell_type": "code",
   "execution_count": 6,
   "metadata": {},
   "outputs": [
    {
     "data": {
      "text/plain": [
       "TensorShape([60000, 784])"
      ]
     },
     "execution_count": 6,
     "metadata": {},
     "output_type": "execute_result"
    }
   ],
   "source": [
    "train_images.shape"
   ]
  },
  {
   "cell_type": "code",
   "execution_count": 7,
   "metadata": {},
   "outputs": [],
   "source": [
    "train_labels = tf.one_hot(train_labels, 10)\n",
    "test_labels = tf.one_hot(test_labels, 10)"
   ]
  },
  {
   "cell_type": "code",
   "execution_count": 8,
   "metadata": {},
   "outputs": [
    {
     "data": {
      "text/plain": [
       "TensorShape([60000, 10])"
      ]
     },
     "execution_count": 8,
     "metadata": {},
     "output_type": "execute_result"
    }
   ],
   "source": [
    "train_labels.shape "
   ]
  },
  {
   "cell_type": "markdown",
   "metadata": {},
   "source": [
    "## 定义模型"
   ]
  },
  {
   "cell_type": "code",
   "execution_count": 9,
   "metadata": {},
   "outputs": [
    {
     "name": "stdout",
     "output_type": "stream",
     "text": [
      "Model: \"sequential\"\n",
      "_________________________________________________________________\n",
      "Layer (type)                 Output Shape              Param #   \n",
      "=================================================================\n",
      "dense (Dense)                (None, 256)               200960    \n",
      "_________________________________________________________________\n",
      "dense_1 (Dense)              (None, 256)               65792     \n",
      "_________________________________________________________________\n",
      "dense_2 (Dense)              (None, 256)               65792     \n",
      "_________________________________________________________________\n",
      "dense_3 (Dense)              (None, 10)                2570      \n",
      "=================================================================\n",
      "Total params: 335,114\n",
      "Trainable params: 335,114\n",
      "Non-trainable params: 0\n",
      "_________________________________________________________________\n"
     ]
    }
   ],
   "source": [
    "model = keras.Sequential([\n",
    "    keras.layers.Dense(256, activation='sigmoid', input_shape=(784,)),\n",
    "    keras.layers.Dense(256, activation='sigmoid'),\n",
    "    keras.layers.Dense(256, activation='sigmoid'),\n",
    "    keras.layers.Dense(10)\n",
    "])\n",
    "model.summary()"
   ]
  },
  {
   "cell_type": "markdown",
   "metadata": {},
   "source": [
    "## 设置优化器和损失函数"
   ]
  },
  {
   "cell_type": "code",
   "execution_count": 10,
   "metadata": {},
   "outputs": [],
   "source": [
    "model.compile(optimizer=keras.optimizers.SGD(LR), loss='mean_squared_error', metrics=['mse'])"
   ]
  },
  {
   "cell_type": "markdown",
   "metadata": {},
   "source": [
    "## 开始训练"
   ]
  },
  {
   "cell_type": "code",
   "execution_count": 11,
   "metadata": {},
   "outputs": [
    {
     "name": "stdout",
     "output_type": "stream",
     "text": [
      "Train on 60000 samples\n",
      "Epoch 1/50\n",
      "60000/60000 [==============================] - 1s 13us/sample - loss: 0.0840 - mse: 0.0840\n",
      "Epoch 2/50\n",
      "60000/60000 [==============================] - 0s 7us/sample - loss: 0.0684 - mse: 0.0684\n",
      "Epoch 3/50\n",
      "60000/60000 [==============================] - 0s 7us/sample - loss: 0.0612 - mse: 0.0612\n",
      "Epoch 4/50\n",
      "60000/60000 [==============================] - 0s 7us/sample - loss: 0.0559 - mse: 0.0559\n",
      "Epoch 5/50\n",
      "60000/60000 [==============================] - 0s 7us/sample - loss: 0.0517 - mse: 0.0517\n",
      "Epoch 6/50\n",
      "60000/60000 [==============================] - 0s 7us/sample - loss: 0.0479 - mse: 0.0479\n",
      "Epoch 7/50\n",
      "60000/60000 [==============================] - 0s 7us/sample - loss: 0.0449 - mse: 0.0449\n",
      "Epoch 8/50\n",
      "60000/60000 [==============================] - 0s 7us/sample - loss: 0.0424 - mse: 0.0424\n",
      "Epoch 9/50\n",
      "60000/60000 [==============================] - 0s 7us/sample - loss: 0.0403 - mse: 0.0403\n",
      "Epoch 10/50\n",
      "60000/60000 [==============================] - 0s 7us/sample - loss: 0.0387 - mse: 0.0387\n",
      "Epoch 11/50\n",
      "60000/60000 [==============================] - 0s 7us/sample - loss: 0.0373 - mse: 0.0373\n",
      "Epoch 12/50\n",
      "60000/60000 [==============================] - 0s 7us/sample - loss: 0.0361 - mse: 0.0361\n",
      "Epoch 13/50\n",
      "60000/60000 [==============================] - 0s 7us/sample - loss: 0.0351 - mse: 0.0351\n",
      "Epoch 14/50\n",
      "60000/60000 [==============================] - 0s 7us/sample - loss: 0.0342 - mse: 0.0342\n",
      "Epoch 15/50\n",
      "60000/60000 [==============================] - 0s 7us/sample - loss: 0.0335 - mse: 0.0335\n",
      "Epoch 16/50\n",
      "60000/60000 [==============================] - 0s 7us/sample - loss: 0.0328 - mse: 0.0328\n",
      "Epoch 17/50\n",
      "60000/60000 [==============================] - 0s 7us/sample - loss: 0.0323 - mse: 0.0323\n",
      "Epoch 18/50\n",
      "60000/60000 [==============================] - 0s 7us/sample - loss: 0.0316 - mse: 0.0316\n",
      "Epoch 19/50\n",
      "60000/60000 [==============================] - 0s 7us/sample - loss: 0.0312 - mse: 0.0312\n",
      "Epoch 20/50\n",
      "60000/60000 [==============================] - 0s 8us/sample - loss: 0.0307 - mse: 0.0307\n",
      "Epoch 21/50\n",
      "60000/60000 [==============================] - 0s 7us/sample - loss: 0.0303 - mse: 0.0303\n",
      "Epoch 22/50\n",
      "60000/60000 [==============================] - 0s 7us/sample - loss: 0.0299 - mse: 0.0299\n",
      "Epoch 23/50\n",
      "60000/60000 [==============================] - 0s 7us/sample - loss: 0.0295 - mse: 0.0295\n",
      "Epoch 24/50\n",
      "60000/60000 [==============================] - 0s 7us/sample - loss: 0.0291 - mse: 0.0291\n",
      "Epoch 25/50\n",
      "60000/60000 [==============================] - 0s 7us/sample - loss: 0.0289 - mse: 0.0289\n",
      "Epoch 26/50\n",
      "60000/60000 [==============================] - 0s 7us/sample - loss: 0.0285 - mse: 0.0285\n",
      "Epoch 27/50\n",
      "60000/60000 [==============================] - 0s 7us/sample - loss: 0.0282 - mse: 0.0282\n",
      "Epoch 28/50\n",
      "60000/60000 [==============================] - 0s 7us/sample - loss: 0.0279 - mse: 0.0279\n",
      "Epoch 29/50\n",
      "60000/60000 [==============================] - 0s 7us/sample - loss: 0.0277 - mse: 0.0277\n",
      "Epoch 30/50\n",
      "60000/60000 [==============================] - 0s 7us/sample - loss: 0.0274 - mse: 0.0274\n",
      "Epoch 31/50\n",
      "60000/60000 [==============================] - 0s 8us/sample - loss: 0.0272 - mse: 0.0272\n",
      "Epoch 32/50\n",
      "60000/60000 [==============================] - 0s 8us/sample - loss: 0.0270 - mse: 0.0270\n",
      "Epoch 33/50\n",
      "60000/60000 [==============================] - 0s 7us/sample - loss: 0.0268 - mse: 0.0268\n",
      "Epoch 34/50\n",
      "60000/60000 [==============================] - 0s 7us/sample - loss: 0.0266 - mse: 0.0266\n",
      "Epoch 35/50\n",
      "60000/60000 [==============================] - 0s 8us/sample - loss: 0.0264 - mse: 0.0264\n",
      "Epoch 36/50\n",
      "60000/60000 [==============================] - 0s 7us/sample - loss: 0.0263 - mse: 0.0263\n",
      "Epoch 37/50\n",
      "60000/60000 [==============================] - 0s 8us/sample - loss: 0.0261 - mse: 0.0261\n",
      "Epoch 38/50\n",
      "60000/60000 [==============================] - 0s 8us/sample - loss: 0.0259 - mse: 0.0259\n",
      "Epoch 39/50\n",
      "60000/60000 [==============================] - 0s 8us/sample - loss: 0.0257 - mse: 0.0257\n",
      "Epoch 40/50\n",
      "60000/60000 [==============================] - 0s 7us/sample - loss: 0.0256 - mse: 0.0256\n",
      "Epoch 41/50\n",
      "60000/60000 [==============================] - 0s 7us/sample - loss: 0.0255 - mse: 0.0255\n",
      "Epoch 42/50\n",
      "60000/60000 [==============================] - 0s 8us/sample - loss: 0.0253 - mse: 0.0253\n",
      "Epoch 43/50\n",
      "60000/60000 [==============================] - 0s 7us/sample - loss: 0.0251 - mse: 0.0251\n",
      "Epoch 44/50\n",
      "60000/60000 [==============================] - 0s 7us/sample - loss: 0.0251 - mse: 0.0251\n",
      "Epoch 45/50\n",
      "60000/60000 [==============================] - 0s 7us/sample - loss: 0.0250 - mse: 0.0250\n",
      "Epoch 46/50\n",
      "60000/60000 [==============================] - 0s 7us/sample - loss: 0.0248 - mse: 0.0248\n",
      "Epoch 47/50\n",
      "60000/60000 [==============================] - 0s 8us/sample - loss: 0.0247 - mse: 0.0247\n",
      "Epoch 48/50\n",
      "60000/60000 [==============================] - 0s 8us/sample - loss: 0.0246 - mse: 0.0246\n",
      "Epoch 49/50\n",
      "60000/60000 [==============================] - 0s 7us/sample - loss: 0.0245 - mse: 0.0245\n",
      "Epoch 50/50\n",
      "60000/60000 [==============================] - 0s 8us/sample - loss: 0.0243 - mse: 0.0243\n"
     ]
    }
   ],
   "source": [
    "history = model.fit(train_images, train_labels, batch_size=BATCH_SIZE, epochs=EPOCHS, verbose=VERBOSE)"
   ]
  },
  {
   "cell_type": "markdown",
   "metadata": {},
   "source": [
    "## 绘制梯度下降图"
   ]
  },
  {
   "cell_type": "code",
   "execution_count": 12,
   "metadata": {
    "scrolled": true
   },
   "outputs": [
    {
     "data": {
      "image/png": "[encoded data removed]",
      "text/plain": [
       "<Figure size 576x360 with 1 Axes>"
      ]
     },
     "metadata": {
      "needs_background": "light"
     },
     "output_type": "display_data"
    }
   ],
   "source": [
    "def plot_learning_curves(history):\n",
    "    pd.DataFrame(history.history).plot(figsize=(8, 5))\n",
    "    plt.grid(True)\n",
    "    plt.gca().set_ylim(0, 0.1)\n",
    "    plt.show()\n",
    "    \n",
    "plot_learning_curves(history)"
   ]
  },
  {
   "cell_type": "markdown",
   "metadata": {},
   "source": [
    "## 测试训练好的模型"
   ]
  },
  {
   "cell_type": "code",
   "execution_count": 13,
   "metadata": {},
   "outputs": [
    {
     "name": "stdout",
     "output_type": "stream",
     "text": [
      "10000/10000 [==============================] - 0s 39us/sample - loss: 0.0277 - mse: 0.0277\n"
     ]
    },
    {
     "data": {
      "text/plain": [
       "[0.0277046951264143, 0.02770469]"
      ]
     },
     "execution_count": 13,
     "metadata": {},
     "output_type": "execute_result"
    }
   ],
   "source": [
    "model.evaluate(test_images, test_labels)"
   ]
  },
  {
   "cell_type": "markdown",
   "metadata": {},
   "source": [
    "## 保存模型 "
   ]
  },
  {
   "cell_type": "code",
   "execution_count": 14,
   "metadata": {},
   "outputs": [],
   "source": [
    "model.save('./save/save_model/model.h5')"
   ]
  },
  {
   "cell_type": "code",
   "execution_count": 15,
   "metadata": {},
   "outputs": [],
   "source": [
    "model.save_weights('./save/save_weights/model_weights.h5')"
   ]
  },
  {
   "cell_type": "code",
   "execution_count": null,
   "metadata": {},
   "outputs": [],
   "source": []
  }
 ],
 "metadata": {
  "kernelspec": {
   "display_name": "Python 3",
   "language": "python",
   "name": "python3"
  },
  "language_info": {
   "codemirror_mode": {
    "name": "ipython",
    "version": 3
   },
   "file_extension": ".py",
   "mimetype": "text/x-python",
   "name": "python",
   "nbconvert_exporter": "python",
   "pygments_lexer": "ipython3",
   "version": "3.7.4"
  }
 },
 "nbformat": 4,
 "nbformat_minor": 2
}
