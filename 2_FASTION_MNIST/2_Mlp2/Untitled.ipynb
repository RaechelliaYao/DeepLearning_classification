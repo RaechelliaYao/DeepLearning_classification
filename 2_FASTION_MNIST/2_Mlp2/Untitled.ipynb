{
 "cells": [
  {
   "cell_type": "markdown",
   "metadata": {},
   "source": [
    "# 多层感知器-MLP\n",
    "多层感知机（MLP，Multilayer Perceptron）也叫人工神经网络（ANN，Artificial Neural Network），除了输入输出层，它中间可以有多个隐层，最简单的MLP只含一个隐层，即三层的结构。"
   ]
  },
  {
   "cell_type": "markdown",
   "metadata": {},
   "source": [
    "## 导入库"
   ]
  },
  {
   "cell_type": "code",
   "execution_count": 1,
   "metadata": {},
   "outputs": [],
   "source": [
    "import tensorflow as tf\n",
    "from tensorflow import keras\n",
    "import pandas as pd\n",
    "import matplotlib.pyplot as plt\n",
    "%matplotlib inline"
   ]
  },
  {
   "cell_type": "markdown",
   "metadata": {},
   "source": [
    "## 超参"
   ]
  },
  {
   "cell_type": "code",
   "execution_count": 2,
   "metadata": {},
   "outputs": [],
   "source": [
    "EPOCHS = 50\n",
    "BATCH_SIZE = 256\n",
    "VALIDATION_SPLIT = 0.3\n",
    "VERBOSE = 1"
   ]
  },
  {
   "cell_type": "markdown",
   "metadata": {},
   "source": [
    "## 导入数据集"
   ]
  },
  {
   "cell_type": "code",
   "execution_count": 3,
   "metadata": {},
   "outputs": [],
   "source": [
    "(train_images, train_labels), (test_images, test_labels) = keras.datasets.fashion_mnist.load_data()"
   ]
  },
  {
   "cell_type": "code",
   "execution_count": 4,
   "metadata": {},
   "outputs": [
    {
     "data": {
      "text/plain": [
       "(60000, 28, 28)"
      ]
     },
     "execution_count": 4,
     "metadata": {},
     "output_type": "execute_result"
    }
   ],
   "source": [
    "train_images.shape"
   ]
  },
  {
   "cell_type": "code",
   "execution_count": 5,
   "metadata": {},
   "outputs": [],
   "source": [
    "train_images = tf.reshape(train_images, (train_images.shape[0], train_images.shape[1]*train_images.shape[2]))\n",
    "test_images = tf.reshape(test_images, (test_images.shape[0], test_images.shape[1]*test_images.shape[2]))"
   ]
  },
  {
   "cell_type": "code",
   "execution_count": 6,
   "metadata": {},
   "outputs": [
    {
     "data": {
      "text/plain": [
       "TensorShape([60000, 784])"
      ]
     },
     "execution_count": 6,
     "metadata": {},
     "output_type": "execute_result"
    }
   ],
   "source": [
    "train_images.shape"
   ]
  },
  {
   "cell_type": "markdown",
   "metadata": {},
   "source": [
    "## 定义模型"
   ]
  },
  {
   "cell_type": "code",
   "execution_count": 7,
   "metadata": {},
   "outputs": [
    {
     "name": "stdout",
     "output_type": "stream",
     "text": [
      "Model: \"sequential\"\n",
      "_________________________________________________________________\n",
      "Layer (type)                 Output Shape              Param #   \n",
      "=================================================================\n",
      "dense (Dense)                (None, 256)               200960    \n",
      "_________________________________________________________________\n",
      "dense_1 (Dense)              (None, 256)               65792     \n",
      "_________________________________________________________________\n",
      "dense_2 (Dense)              (None, 256)               65792     \n",
      "_________________________________________________________________\n",
      "dense_3 (Dense)              (None, 10)                2570      \n",
      "=================================================================\n",
      "Total params: 335,114\n",
      "Trainable params: 335,114\n",
      "Non-trainable params: 0\n",
      "_________________________________________________________________\n"
     ]
    }
   ],
   "source": [
    "model = keras.Sequential([\n",
    "    keras.layers.Dense(256, activation='relu', input_shape=(784,)),\n",
    "    keras.layers.Dense(256, activation='relu'),\n",
    "    keras.layers.Dense(256, activation='relu'),\n",
    "    keras.layers.Dense(10, activation='softmax')\n",
    "])\n",
    "model.summary()"
   ]
  },
  {
   "cell_type": "markdown",
   "metadata": {},
   "source": [
    "## 设置优化器和损失函数"
   ]
  },
  {
   "cell_type": "code",
   "execution_count": 8,
   "metadata": {},
   "outputs": [],
   "source": [
    "model.compile(optimizer=keras.optimizers.Adam(), loss=keras.losses.SparseCategoricalCrossentropy(), metrics=['accuracy'])"
   ]
  },
  {
   "cell_type": "markdown",
   "metadata": {},
   "source": [
    "## 开始训练"
   ]
  },
  {
   "cell_type": "code",
   "execution_count": 9,
   "metadata": {
    "scrolled": false
   },
   "outputs": [
    {
     "name": "stdout",
     "output_type": "stream",
     "text": [
      "Train on 42000 samples, validate on 18000 samples\n",
      "Epoch 1/50\n",
      "42000/42000 [==============================] - 1s 19us/sample - loss: 5.1371 - accuracy: 0.7268 - val_loss: 1.3282 - val_accuracy: 0.7483\n",
      "Epoch 2/50\n",
      "42000/42000 [==============================] - 0s 10us/sample - loss: 0.7740 - accuracy: 0.8084 - val_loss: 0.7127 - val_accuracy: 0.8110\n",
      "Epoch 3/50\n",
      "42000/42000 [==============================] - 0s 10us/sample - loss: 0.5523 - accuracy: 0.8311 - val_loss: 0.6214 - val_accuracy: 0.8179\n",
      "Epoch 4/50\n",
      "42000/42000 [==============================] - 0s 9us/sample - loss: 0.4750 - accuracy: 0.8473 - val_loss: 0.5793 - val_accuracy: 0.8158\n",
      "Epoch 5/50\n",
      "42000/42000 [==============================] - 0s 9us/sample - loss: 0.4240 - accuracy: 0.8554 - val_loss: 0.5825 - val_accuracy: 0.8159\n",
      "Epoch 6/50\n",
      "42000/42000 [==============================] - 0s 9us/sample - loss: 0.3614 - accuracy: 0.8706 - val_loss: 0.5608 - val_accuracy: 0.8346\n",
      "Epoch 7/50\n",
      "42000/42000 [==============================] - 0s 9us/sample - loss: 0.3470 - accuracy: 0.8760 - val_loss: 0.5431 - val_accuracy: 0.8382\n",
      "Epoch 8/50\n",
      "42000/42000 [==============================] - 0s 9us/sample - loss: 0.3341 - accuracy: 0.8808 - val_loss: 0.5226 - val_accuracy: 0.8474\n",
      "Epoch 9/50\n",
      "42000/42000 [==============================] - 0s 10us/sample - loss: 0.3059 - accuracy: 0.8878 - val_loss: 0.5160 - val_accuracy: 0.8477\n",
      "Epoch 10/50\n",
      "42000/42000 [==============================] - 0s 9us/sample - loss: 0.3037 - accuracy: 0.8888 - val_loss: 0.4806 - val_accuracy: 0.8538\n",
      "Epoch 11/50\n",
      "42000/42000 [==============================] - 0s 10us/sample - loss: 0.2825 - accuracy: 0.8966 - val_loss: 0.4946 - val_accuracy: 0.8531\n",
      "Epoch 12/50\n",
      "42000/42000 [==============================] - 0s 10us/sample - loss: 0.2781 - accuracy: 0.8996 - val_loss: 0.5083 - val_accuracy: 0.8481\n",
      "Epoch 13/50\n",
      "42000/42000 [==============================] - 0s 9us/sample - loss: 0.2865 - accuracy: 0.8940 - val_loss: 0.5447 - val_accuracy: 0.8306\n",
      "Epoch 14/50\n",
      "42000/42000 [==============================] - 0s 9us/sample - loss: 0.2782 - accuracy: 0.8975 - val_loss: 0.4526 - val_accuracy: 0.8618\n",
      "Epoch 15/50\n",
      "42000/42000 [==============================] - 0s 10us/sample - loss: 0.2628 - accuracy: 0.9023 - val_loss: 0.5616 - val_accuracy: 0.8418\n",
      "Epoch 16/50\n",
      "42000/42000 [==============================] - 0s 10us/sample - loss: 0.2823 - accuracy: 0.8997 - val_loss: 0.5450 - val_accuracy: 0.8413\n",
      "Epoch 17/50\n",
      "42000/42000 [==============================] - 0s 10us/sample - loss: 0.2704 - accuracy: 0.9011 - val_loss: 0.4714 - val_accuracy: 0.8512\n",
      "Epoch 18/50\n",
      "42000/42000 [==============================] - 0s 10us/sample - loss: 0.2979 - accuracy: 0.8949 - val_loss: 0.4976 - val_accuracy: 0.8571\n",
      "Epoch 19/50\n",
      "42000/42000 [==============================] - 0s 9us/sample - loss: 0.2596 - accuracy: 0.9045 - val_loss: 0.4675 - val_accuracy: 0.8613\n",
      "Epoch 20/50\n",
      "42000/42000 [==============================] - 0s 10us/sample - loss: 0.2476 - accuracy: 0.9099 - val_loss: 0.4723 - val_accuracy: 0.8623\n",
      "Epoch 21/50\n",
      "42000/42000 [==============================] - 0s 10us/sample - loss: 0.2646 - accuracy: 0.9053 - val_loss: 0.4698 - val_accuracy: 0.8602\n",
      "Epoch 22/50\n",
      "42000/42000 [==============================] - 0s 9us/sample - loss: 0.2336 - accuracy: 0.9120 - val_loss: 0.5451 - val_accuracy: 0.8532\n",
      "Epoch 23/50\n",
      "42000/42000 [==============================] - 0s 10us/sample - loss: 0.2666 - accuracy: 0.9033 - val_loss: 0.5123 - val_accuracy: 0.8494\n",
      "Epoch 24/50\n",
      "42000/42000 [==============================] - 0s 10us/sample - loss: 0.2565 - accuracy: 0.9056 - val_loss: 0.4769 - val_accuracy: 0.8531\n",
      "Epoch 25/50\n",
      "42000/42000 [==============================] - 0s 10us/sample - loss: 0.2637 - accuracy: 0.9041 - val_loss: 0.4478 - val_accuracy: 0.8666\n",
      "Epoch 26/50\n",
      "42000/42000 [==============================] - 0s 10us/sample - loss: 0.2338 - accuracy: 0.9129 - val_loss: 0.4972 - val_accuracy: 0.8568\n",
      "Epoch 27/50\n",
      "42000/42000 [==============================] - 0s 10us/sample - loss: 0.2544 - accuracy: 0.9068 - val_loss: 0.4721 - val_accuracy: 0.8638\n",
      "Epoch 28/50\n",
      "42000/42000 [==============================] - 0s 10us/sample - loss: 0.2212 - accuracy: 0.9180 - val_loss: 0.5790 - val_accuracy: 0.8450\n",
      "Epoch 29/50\n",
      "42000/42000 [==============================] - 0s 10us/sample - loss: 0.2437 - accuracy: 0.9126 - val_loss: 0.4602 - val_accuracy: 0.8645\n",
      "Epoch 30/50\n",
      "42000/42000 [==============================] - 0s 10us/sample - loss: 0.2318 - accuracy: 0.9157 - val_loss: 0.4966 - val_accuracy: 0.8633\n",
      "Epoch 31/50\n",
      "42000/42000 [==============================] - 0s 9us/sample - loss: 0.2169 - accuracy: 0.9197 - val_loss: 0.4405 - val_accuracy: 0.8724\n",
      "Epoch 32/50\n",
      "42000/42000 [==============================] - 0s 10us/sample - loss: 0.2243 - accuracy: 0.9161 - val_loss: 0.4519 - val_accuracy: 0.8744\n",
      "Epoch 33/50\n",
      "42000/42000 [==============================] - 0s 10us/sample - loss: 0.2234 - accuracy: 0.9161 - val_loss: 0.5116 - val_accuracy: 0.8565\n",
      "Epoch 34/50\n",
      "42000/42000 [==============================] - 0s 10us/sample - loss: 0.2336 - accuracy: 0.9140 - val_loss: 0.4498 - val_accuracy: 0.8716\n",
      "Epoch 35/50\n",
      "42000/42000 [==============================] - 0s 10us/sample - loss: 0.2286 - accuracy: 0.9159 - val_loss: 0.4750 - val_accuracy: 0.8593\n",
      "Epoch 36/50\n",
      "42000/42000 [==============================] - 0s 10us/sample - loss: 0.2462 - accuracy: 0.9107 - val_loss: 0.4394 - val_accuracy: 0.8779\n",
      "Epoch 37/50\n",
      "42000/42000 [==============================] - 0s 9us/sample - loss: 0.2112 - accuracy: 0.9213 - val_loss: 0.4763 - val_accuracy: 0.8650\n",
      "Epoch 38/50\n",
      "42000/42000 [==============================] - 0s 9us/sample - loss: 0.2245 - accuracy: 0.9171 - val_loss: 0.5594 - val_accuracy: 0.8397\n",
      "Epoch 39/50\n",
      "42000/42000 [==============================] - 0s 10us/sample - loss: 0.2098 - accuracy: 0.9201 - val_loss: 0.4540 - val_accuracy: 0.8732\n",
      "Epoch 40/50\n",
      "42000/42000 [==============================] - 0s 9us/sample - loss: 0.2013 - accuracy: 0.9242 - val_loss: 0.4814 - val_accuracy: 0.8719\n",
      "Epoch 41/50\n",
      "42000/42000 [==============================] - 0s 9us/sample - loss: 0.2044 - accuracy: 0.9250 - val_loss: 0.4326 - val_accuracy: 0.8793\n",
      "Epoch 42/50\n",
      "42000/42000 [==============================] - 0s 10us/sample - loss: 0.2091 - accuracy: 0.9219 - val_loss: 0.5411 - val_accuracy: 0.8609\n",
      "Epoch 43/50\n",
      "42000/42000 [==============================] - 0s 10us/sample - loss: 0.2539 - accuracy: 0.9092 - val_loss: 0.4209 - val_accuracy: 0.8766\n",
      "Epoch 44/50\n",
      "42000/42000 [==============================] - 0s 9us/sample - loss: 0.1934 - accuracy: 0.9287 - val_loss: 0.4260 - val_accuracy: 0.8814\n",
      "Epoch 45/50\n",
      "42000/42000 [==============================] - 0s 9us/sample - loss: 0.1776 - accuracy: 0.9342 - val_loss: 0.4358 - val_accuracy: 0.8795\n",
      "Epoch 46/50\n",
      "42000/42000 [==============================] - 0s 10us/sample - loss: 0.1916 - accuracy: 0.9275 - val_loss: 0.4542 - val_accuracy: 0.8752\n",
      "Epoch 47/50\n",
      "42000/42000 [==============================] - 0s 10us/sample - loss: 0.1922 - accuracy: 0.9290 - val_loss: 0.4520 - val_accuracy: 0.8765\n",
      "Epoch 48/50\n",
      "42000/42000 [==============================] - 0s 9us/sample - loss: 0.1944 - accuracy: 0.9256 - val_loss: 0.4752 - val_accuracy: 0.8712\n",
      "Epoch 49/50\n",
      "42000/42000 [==============================] - 0s 10us/sample - loss: 0.1881 - accuracy: 0.9290 - val_loss: 0.4031 - val_accuracy: 0.8838\n",
      "Epoch 50/50\n",
      "42000/42000 [==============================] - 0s 10us/sample - loss: 0.1799 - accuracy: 0.9313 - val_loss: 0.4485 - val_accuracy: 0.8746\n"
     ]
    }
   ],
   "source": [
    "history = model.fit(train_images, train_labels, batch_size=BATCH_SIZE, epochs=EPOCHS, validation_split=VALIDATION_SPLIT, verbose=VERBOSE)"
   ]
  },
  {
   "cell_type": "markdown",
   "metadata": {},
   "source": [
    "## 绘制梯度下降图"
   ]
  },
  {
   "cell_type": "code",
   "execution_count": 10,
   "metadata": {
    "scrolled": true
   },
   "outputs": [
    {
     "data": {
      "image/png": "[encoded data removed]",
      "text/plain": [
       "<Figure size 576x360 with 1 Axes>"
      ]
     },
     "metadata": {
      "needs_background": "light"
     },
     "output_type": "display_data"
    }
   ],
   "source": [
    "def plot_learning_curves(history):\n",
    "    pd.DataFrame(history.history).plot(figsize=(8, 5))\n",
    "    plt.grid(True)\n",
    "    plt.gca().set_ylim(0, 2)\n",
    "    plt.show()\n",
    "    \n",
    "plot_learning_curves(history)"
   ]
  },
  {
   "cell_type": "markdown",
   "metadata": {},
   "source": [
    "## 测试训练好的模型"
   ]
  },
  {
   "cell_type": "code",
   "execution_count": 11,
   "metadata": {},
   "outputs": [
    {
     "name": "stdout",
     "output_type": "stream",
     "text": [
      "10000/10000 [==============================] - 0s 37us/sample - loss: 0.4917 - accuracy: 0.8670\n"
     ]
    },
    {
     "data": {
      "text/plain": [
       "[0.4917440696001053, 0.86700004]"
      ]
     },
     "execution_count": 11,
     "metadata": {},
     "output_type": "execute_result"
    }
   ],
   "source": [
    "model.evaluate(test_images, test_labels)"
   ]
  },
  {
   "cell_type": "markdown",
   "metadata": {},
   "source": [
    "## 保存模型 "
   ]
  },
  {
   "cell_type": "code",
   "execution_count": 12,
   "metadata": {},
   "outputs": [],
   "source": [
    "model.save('./save/save_model/model.h5')"
   ]
  },
  {
   "cell_type": "code",
   "execution_count": 13,
   "metadata": {},
   "outputs": [],
   "source": [
    "model.save_weights('./save/save_weights/model_weights.h5')"
   ]
  },
  {
   "cell_type": "code",
   "execution_count": null,
   "metadata": {},
   "outputs": [],
   "source": []
  }
 ],
 "metadata": {
  "kernelspec": {
   "display_name": "Python 3",
   "language": "python",
   "name": "python3"
  },
  "language_info": {
   "codemirror_mode": {
    "name": "ipython",
    "version": 3
   },
   "file_extension": ".py",
   "mimetype": "text/x-python",
   "name": "python",
   "nbconvert_exporter": "python",
   "pygments_lexer": "ipython3",
   "version": "3.7.4"
  }
 },
 "nbformat": 4,
 "nbformat_minor": 2
}
