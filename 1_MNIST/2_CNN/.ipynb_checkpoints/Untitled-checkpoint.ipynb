{
 "cells": [
  {
   "cell_type": "code",
   "execution_count": 1,
   "metadata": {},
   "outputs": [],
   "source": [
    "import tensorflow as tf\n",
    "from tensorflow import keras"
   ]
  },
  {
   "cell_type": "code",
   "execution_count": 2,
   "metadata": {},
   "outputs": [],
   "source": [
    "(train_images, train_labels), (test_images, test_labels) = keras.datasets.mnist.load_data()"
   ]
  },
  {
   "cell_type": "code",
   "execution_count": 3,
   "metadata": {},
   "outputs": [
    {
     "data": {
      "text/plain": [
       "(60000, 28, 28)"
      ]
     },
     "execution_count": 3,
     "metadata": {},
     "output_type": "execute_result"
    }
   ],
   "source": [
    "train_images.shape"
   ]
  },
  {
   "cell_type": "code",
   "execution_count": 4,
   "metadata": {},
   "outputs": [],
   "source": [
    "train_images = train_images.reshape((train_images.shape[0], train_images.shape[1], train_images.shape[2], 1)).astype('float32') / 255.\n",
    "test_images = test_images.reshape((test_images.shape[0], test_images.shape[1], test_images.shape[2], 1)).astype('float32') / 255.\n",
    "\n",
    "train_labels = keras.utils.to_categorical(train_labels)\n",
    "test_labels = keras.utils.to_categorical(test_labels)"
   ]
  },
  {
   "cell_type": "code",
   "execution_count": 5,
   "metadata": {},
   "outputs": [],
   "source": [
    "num_classes = train_labels.shape[1]"
   ]
  },
  {
   "cell_type": "code",
   "execution_count": 6,
   "metadata": {},
   "outputs": [
    {
     "name": "stdout",
     "output_type": "stream",
     "text": [
      "Model: \"sequential\"\n",
      "_________________________________________________________________\n",
      "Layer (type)                 Output Shape              Param #   \n",
      "=================================================================\n",
      "dense (Dense)                (None, 784)               615440    \n",
      "_________________________________________________________________\n",
      "dense_1 (Dense)              (None, 10)                7850      \n",
      "=================================================================\n",
      "Total params: 623,290\n",
      "Trainable params: 623,290\n",
      "Non-trainable params: 0\n",
      "_________________________________________________________________\n"
     ]
    }
   ],
   "source": [
    "model = keras.models.Sequential([\n",
    "    keras.layers.Conv2D(32, (5, 5), input_shape=(28, 28, 1), activation='relu'),\n",
    "    keras.layers.MaxPooling2D(),\n",
    "    keras.layers.Dropout(0.2),\n",
    "    keras.layers.MaxPooling2D(),\n",
    "    \n",
    "])\n",
    "\n",
    "model.summary()"
   ]
  },
  {
   "cell_type": "code",
   "execution_count": 7,
   "metadata": {},
   "outputs": [],
   "source": [
    "model.compile(loss='categorical_crossentropy', optimizer='adam', metrics=['accuracy'])"
   ]
  },
  {
   "cell_type": "code",
   "execution_count": 8,
   "metadata": {},
   "outputs": [
    {
     "name": "stdout",
     "output_type": "stream",
     "text": [
      "Train on 60000 samples, validate on 10000 samples\n",
      "Epoch 1/10\n",
      "60000/60000 [==============================] - 1s 22us/sample - loss: 0.2737 - accuracy: 0.9228 - val_loss: 0.1444 - val_accuracy: 0.9579\n",
      "Epoch 2/10\n",
      "60000/60000 [==============================] - 1s 11us/sample - loss: 0.1101 - accuracy: 0.9686 - val_loss: 0.0944 - val_accuracy: 0.9720\n",
      "Epoch 3/10\n",
      "60000/60000 [==============================] - 1s 11us/sample - loss: 0.0719 - accuracy: 0.9793 - val_loss: 0.0734 - val_accuracy: 0.9780\n",
      "Epoch 4/10\n",
      "60000/60000 [==============================] - 1s 11us/sample - loss: 0.0495 - accuracy: 0.9855 - val_loss: 0.0787 - val_accuracy: 0.9756\n",
      "Epoch 5/10\n",
      "60000/60000 [==============================] - 1s 11us/sample - loss: 0.0368 - accuracy: 0.9898 - val_loss: 0.0625 - val_accuracy: 0.9800\n",
      "Epoch 6/10\n",
      "60000/60000 [==============================] - 1s 11us/sample - loss: 0.0263 - accuracy: 0.9931 - val_loss: 0.0670 - val_accuracy: 0.9784\n",
      "Epoch 7/10\n",
      "60000/60000 [==============================] - 1s 11us/sample - loss: 0.0196 - accuracy: 0.9952 - val_loss: 0.0667 - val_accuracy: 0.9787\n",
      "Epoch 8/10\n",
      "60000/60000 [==============================] - ETA: 0s - loss: 0.0140 - accuracy: 0.99 - 1s 12us/sample - loss: 0.0143 - accuracy: 0.9967 - val_loss: 0.0632 - val_accuracy: 0.9802\n",
      "Epoch 9/10\n",
      "60000/60000 [==============================] - 1s 12us/sample - loss: 0.0101 - accuracy: 0.9980 - val_loss: 0.0653 - val_accuracy: 0.9817\n",
      "Epoch 10/10\n",
      "60000/60000 [==============================] - 1s 12us/sample - loss: 0.0088 - accuracy: 0.9983 - val_loss: 0.0639 - val_accuracy: 0.9818\n"
     ]
    },
    {
     "data": {
      "text/plain": [
       "<tensorflow.python.keras.callbacks.History at 0x13e805c7d08>"
      ]
     },
     "execution_count": 8,
     "metadata": {},
     "output_type": "execute_result"
    }
   ],
   "source": [
    "model.fit(train_images, train_labels, validation_data=(test_images, test_labels), epochs=10, batch_size=200)"
   ]
  },
  {
   "cell_type": "code",
   "execution_count": 9,
   "metadata": {},
   "outputs": [],
   "source": [
    "model.save('./save/save_model/model.h5')"
   ]
  },
  {
   "cell_type": "code",
   "execution_count": 10,
   "metadata": {},
   "outputs": [],
   "source": [
    "model.save_weights('./save/save_weights/model_weights.h5')"
   ]
  },
  {
   "cell_type": "code",
   "execution_count": null,
   "metadata": {},
   "outputs": [],
   "source": []
  }
 ],
 "metadata": {
  "kernelspec": {
   "display_name": "Python 3",
   "language": "python",
   "name": "python3"
  },
  "language_info": {
   "codemirror_mode": {
    "name": "ipython",
    "version": 3
   },
   "file_extension": ".py",
   "mimetype": "text/x-python",
   "name": "python",
   "nbconvert_exporter": "python",
   "pygments_lexer": "ipython3",
   "version": "3.7.4"
  }
 },
 "nbformat": 4,
 "nbformat_minor": 2
}
