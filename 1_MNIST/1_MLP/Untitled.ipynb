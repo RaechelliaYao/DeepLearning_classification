{
 "cells": [
  {
   "cell_type": "markdown",
   "metadata": {},
   "source": [
    "## 导入库"
   ]
  },
  {
   "cell_type": "code",
   "execution_count": 1,
   "metadata": {},
   "outputs": [],
   "source": [
    "import tensorflow as tf\n",
    "from tensorflow import keras\n",
    "import pandas as pd\n",
    "import matplotlib.pyplot as plt\n",
    "%matplotlib inline"
   ]
  },
  {
   "cell_type": "markdown",
   "metadata": {},
   "source": [
    "## 加载数据"
   ]
  },
  {
   "cell_type": "code",
   "execution_count": 2,
   "metadata": {},
   "outputs": [],
   "source": [
    "(train_images, train_labels), (test_images, test_labels) = keras.datasets.mnist.load_data()"
   ]
  },
  {
   "cell_type": "code",
   "execution_count": 3,
   "metadata": {},
   "outputs": [
    {
     "data": {
      "text/plain": [
       "(60000, 28, 28)"
      ]
     },
     "execution_count": 3,
     "metadata": {},
     "output_type": "execute_result"
    }
   ],
   "source": [
    "train_images.shape"
   ]
  },
  {
   "cell_type": "code",
   "execution_count": 4,
   "metadata": {},
   "outputs": [],
   "source": [
    "num_pixels = train_images.shape[1] * train_images.shape[2]\n",
    "train_images = train_images.reshape((train_images.shape[0], num_pixels)).astype('float32') / 255.\n",
    "test_images = test_images.reshape((test_images.shape[0], num_pixels)).astype('float32') / 255.\n",
    "\n",
    "train_labels = keras.utils.to_categorical(train_labels)\n",
    "test_labels = keras.utils.to_categorical(test_labels)"
   ]
  },
  {
   "cell_type": "code",
   "execution_count": 5,
   "metadata": {},
   "outputs": [],
   "source": [
    "num_classes = train_labels.shape[1]"
   ]
  },
  {
   "cell_type": "markdown",
   "metadata": {},
   "source": [
    "## 定义模型"
   ]
  },
  {
   "cell_type": "code",
   "execution_count": 6,
   "metadata": {},
   "outputs": [
    {
     "name": "stdout",
     "output_type": "stream",
     "text": [
      "Model: \"sequential\"\n",
      "_________________________________________________________________\n",
      "Layer (type)                 Output Shape              Param #   \n",
      "=================================================================\n",
      "dense (Dense)                (None, 784)               615440    \n",
      "_________________________________________________________________\n",
      "dense_1 (Dense)              (None, 10)                7850      \n",
      "=================================================================\n",
      "Total params: 623,290\n",
      "Trainable params: 623,290\n",
      "Non-trainable params: 0\n",
      "_________________________________________________________________\n"
     ]
    }
   ],
   "source": [
    "model = keras.models.Sequential([\n",
    "    keras.layers.Dense(num_pixels, input_dim=num_pixels, kernel_initializer='normal', activation='relu'),\n",
    "    keras.layers.Dense(num_classes, kernel_initializer='normal', activation='softmax')\n",
    "])\n",
    "\n",
    "model.summary()"
   ]
  },
  {
   "cell_type": "markdown",
   "metadata": {},
   "source": [
    "## 损失和优化"
   ]
  },
  {
   "cell_type": "code",
   "execution_count": 7,
   "metadata": {},
   "outputs": [],
   "source": [
    "model.compile(loss='categorical_crossentropy', optimizer='adam', metrics=['accuracy'])"
   ]
  },
  {
   "cell_type": "markdown",
   "metadata": {},
   "source": [
    "## 开始训练"
   ]
  },
  {
   "cell_type": "code",
   "execution_count": 8,
   "metadata": {},
   "outputs": [
    {
     "name": "stdout",
     "output_type": "stream",
     "text": [
      "Train on 60000 samples, validate on 10000 samples\n",
      "Epoch 1/10\n",
      "60000/60000 [==============================] - 1s 18us/sample - loss: 0.2775 - accuracy: 0.9227 - val_loss: 0.1347 - val_accuracy: 0.9585\n",
      "Epoch 2/10\n",
      "60000/60000 [==============================] - 1s 11us/sample - loss: 0.1101 - accuracy: 0.9685 - val_loss: 0.0971 - val_accuracy: 0.9691\n",
      "Epoch 3/10\n",
      "60000/60000 [==============================] - 1s 11us/sample - loss: 0.0696 - accuracy: 0.9805 - val_loss: 0.0845 - val_accuracy: 0.9730\n",
      "Epoch 4/10\n",
      "60000/60000 [==============================] - 1s 11us/sample - loss: 0.0487 - accuracy: 0.9863 - val_loss: 0.0734 - val_accuracy: 0.9783\n",
      "Epoch 5/10\n",
      "60000/60000 [==============================] - 1s 11us/sample - loss: 0.0366 - accuracy: 0.9897 - val_loss: 0.0611 - val_accuracy: 0.9806\n",
      "Epoch 6/10\n",
      "60000/60000 [==============================] - 1s 11us/sample - loss: 0.0267 - accuracy: 0.9931 - val_loss: 0.0692 - val_accuracy: 0.9784\n",
      "Epoch 7/10\n",
      "60000/60000 [==============================] - 1s 11us/sample - loss: 0.0197 - accuracy: 0.9952 - val_loss: 0.0624 - val_accuracy: 0.9795\n",
      "Epoch 8/10\n",
      "60000/60000 [==============================] - 1s 11us/sample - loss: 0.0138 - accuracy: 0.9968 - val_loss: 0.0632 - val_accuracy: 0.9805\n",
      "Epoch 9/10\n",
      "60000/60000 [==============================] - 1s 11us/sample - loss: 0.0103 - accuracy: 0.9980 - val_loss: 0.0590 - val_accuracy: 0.9823\n",
      "Epoch 10/10\n",
      "60000/60000 [==============================] - 1s 12us/sample - loss: 0.0081 - accuracy: 0.9985 - val_loss: 0.0646 - val_accuracy: 0.9802\n"
     ]
    }
   ],
   "source": [
    "history = model.fit(train_images, train_labels, validation_data=(test_images, test_labels), epochs=10, batch_size=200)"
   ]
  },
  {
   "cell_type": "markdown",
   "metadata": {},
   "source": [
    "## 梯度图"
   ]
  },
  {
   "cell_type": "code",
   "execution_count": 9,
   "metadata": {},
   "outputs": [
    {
     "data": {
      "image/png": "[encoded data removed]",
      "text/plain": [
       "<Figure size 576x360 with 1 Axes>"
      ]
     },
     "metadata": {
      "needs_background": "light"
     },
     "output_type": "display_data"
    }
   ],
   "source": [
    "def plot_learning_curves(history):\n",
    "    pd.DataFrame(history.history).plot(figsize=(8, 5))\n",
    "    plt.grid(True)\n",
    "    plt.gca().set_ylim(0, 2)\n",
    "    plt.show()\n",
    "    \n",
    "plot_learning_curves(history)"
   ]
  },
  {
   "cell_type": "markdown",
   "metadata": {},
   "source": [
    "## 测试"
   ]
  },
  {
   "cell_type": "code",
   "execution_count": 10,
   "metadata": {},
   "outputs": [
    {
     "name": "stdout",
     "output_type": "stream",
     "text": [
      "10000/10000 [==============================] - 0s 50us/sample - loss: 0.0646 - accuracy: 0.9802\n"
     ]
    },
    {
     "data": {
      "text/plain": [
       "[0.06459158347079647, 0.98020005]"
      ]
     },
     "execution_count": 10,
     "metadata": {},
     "output_type": "execute_result"
    }
   ],
   "source": [
    "model.evaluate(test_images, test_labels)"
   ]
  },
  {
   "cell_type": "markdown",
   "metadata": {},
   "source": [
    "## 保存"
   ]
  },
  {
   "cell_type": "code",
   "execution_count": 11,
   "metadata": {},
   "outputs": [],
   "source": [
    "model.save('./save/save_model/model.h5')"
   ]
  },
  {
   "cell_type": "code",
   "execution_count": 12,
   "metadata": {},
   "outputs": [],
   "source": [
    "model.save_weights('./save/save_weights/model_weights.h5')"
   ]
  },
  {
   "cell_type": "code",
   "execution_count": null,
   "metadata": {},
   "outputs": [],
   "source": []
  }
 ],
 "metadata": {
  "kernelspec": {
   "display_name": "Python 3",
   "language": "python",
   "name": "python3"
  },
  "language_info": {
   "codemirror_mode": {
    "name": "ipython",
    "version": 3
   },
   "file_extension": ".py",
   "mimetype": "text/x-python",
   "name": "python",
   "nbconvert_exporter": "python",
   "pygments_lexer": "ipython3",
   "version": "3.7.4"
  }
 },
 "nbformat": 4,
 "nbformat_minor": 2
}
